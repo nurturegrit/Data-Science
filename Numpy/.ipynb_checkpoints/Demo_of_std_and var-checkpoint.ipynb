{
 "cells": [
  {
   "cell_type": "markdown",
   "id": "dd83b7be-31fe-45d7-a82a-901bae0f5815",
   "metadata": {},
   "source": [
    "## Showing the difference between a low_variance series and high variance series"
   ]
  },
  {
   "cell_type": "code",
   "execution_count": 1,
   "id": "3e7ccdce-218a-4fde-a06b-363339e25b34",
   "metadata": {},
   "outputs": [],
   "source": [
    "import numpy as np"
   ]
  },
  {
   "cell_type": "code",
   "execution_count": 2,
   "id": "1db347c4-b827-4116-a015-942392140816",
   "metadata": {},
   "outputs": [],
   "source": [
    "low_variance_array = np.array([2, 4, 6, 8, 10])\n",
    "high_variance_array = np.array([10, 100, 1000, 10000, 5400])"
   ]
  },
  {
   "cell_type": "markdown",
   "id": "9a2b5309-d4d2-4b13-80cb-31fded1fe003",
   "metadata": {},
   "source": [
    "Variance is the average degree to which the elements of an array are different from it's mean"
   ]
  },
  {
   "cell_type": "code",
   "execution_count": 5,
   "id": "d85b0689-10a8-4c1f-935f-02796a10e1a0",
   "metadata": {},
   "outputs": [
    {
     "data": {
      "text/plain": [
       "8.0"
      ]
     },
     "execution_count": 5,
     "metadata": {},
     "output_type": "execute_result"
    }
   ],
   "source": [
    "# Calculating Variance\n",
    "low_mean = low_variance_array.mean()\n",
    "intermediate_arr = low_variance_array - low_mean\n",
    "intermediate_arr **= 2\n",
    "sum(intermediate_arr)/len(low_variance_array)"
   ]
  },
  {
   "cell_type": "code",
   "execution_count": 8,
   "id": "a0b99abf-c14b-40b6-bd1d-85ff9b4e5860",
   "metadata": {},
   "outputs": [
    {
     "data": {
      "text/plain": [
       "(8.0, array([ 2,  4,  6,  8, 10]))"
      ]
     },
     "execution_count": 8,
     "metadata": {},
     "output_type": "execute_result"
    }
   ],
   "source": [
    "np.var(low_variance_array), low_variance_array"
   ]
  },
  {
   "cell_type": "code",
   "execution_count": 10,
   "id": "47d961f8-5b48-4eba-86bd-116916d0c86a",
   "metadata": {},
   "outputs": [
    {
     "data": {
      "text/plain": [
       "(15130816.0, array([   10,   100,  1000, 10000,  5400]))"
      ]
     },
     "execution_count": 10,
     "metadata": {},
     "output_type": "execute_result"
    }
   ],
   "source": [
    "np.var(high_variance_array), high_variance_array # Higher Variance for array whose values are more far apart from one another"
   ]
  },
  {
   "cell_type": "code",
   "execution_count": 11,
   "id": "568cdae1-96c1-4564-a38f-d57f7a3db027",
   "metadata": {},
   "outputs": [
    {
     "data": {
      "text/plain": [
       "(2.8284271247461903, 3889.834957938447)"
      ]
     },
     "execution_count": 11,
     "metadata": {},
     "output_type": "execute_result"
    }
   ],
   "source": [
    "# Standard Deviation is calculated the by taking sqaureroot of variance\n",
    "low_std = np.sqrt(np.var(low_variance_array))\n",
    "high_std = np.sqrt(np.var(high_variance_array))\n",
    "low_std, high_std"
   ]
  },
  {
   "cell_type": "code",
   "execution_count": 12,
   "id": "4999c17a-0362-403d-b817-4e3d39660c32",
   "metadata": {},
   "outputs": [
    {
     "data": {
      "text/plain": [
       "array([-4., -2.,  0.,  2.,  4.])"
      ]
     },
     "execution_count": 12,
     "metadata": {},
     "output_type": "execute_result"
    }
   ],
   "source": [
    "# Checking Std Dev\n",
    "check_arr = low_variance_array - low_mean\n",
    "check_arr"
   ]
  },
  {
   "cell_type": "code",
   "execution_count": 13,
   "id": "d4fd4065-70e1-4cac-a844-8cf0977b626b",
   "metadata": {},
   "outputs": [
    {
     "data": {
      "text/plain": [
       "2.8284271247461903"
      ]
     },
     "execution_count": 13,
     "metadata": {},
     "output_type": "execute_result"
    }
   ],
   "source": [
    "Total_distance = 4 + 2 + 0 + 2 + 4\n",
    "low_std"
   ]
  },
  {
   "cell_type": "code",
   "execution_count": 14,
   "id": "9ce6ddcc-619b-4845-ad63-e758077f0afd",
   "metadata": {},
   "outputs": [
    {
     "data": {
      "text/plain": [
       "2.4"
      ]
     },
     "execution_count": 14,
     "metadata": {},
     "output_type": "execute_result"
    }
   ],
   "source": [
    "Total_distance/5 # Mean Absolute Deviation"
   ]
  },
  {
   "cell_type": "markdown",
   "id": "926d18b4-15ff-47dd-b19e-749bdb79538e",
   "metadata": {},
   "source": [
    "Sure! Let's look at specific examples to illustrate the points mentioned about why standard deviation (SD) is often preferred over mean absolute deviation (MAD).\n",
    "1. Mathematical Properties\n",
    "\n",
    "Example: Sensitivity to Outliers\n",
    "\n",
    "Consider two datasets:\n",
    "\n",
    "    Dataset A: [10,12,14,16,18][10,12,14,16,18]\n",
    "    Dataset B: [10,12,14,16,100][10,12,14,16,100]\n",
    "\n",
    "Both datasets have the same mean (14), but Dataset B has an outlier (100).\n",
    "\n",
    "    MAD for Dataset A:\n",
    "    MAD=∣10−14∣+∣12−14∣+∣14−14∣+∣16−14∣+∣18−14∣5=4+2+0+2+45=2.4\n",
    "    MAD=5∣10−14∣+∣12−14∣+∣14−14∣+∣16−14∣+∣18−14∣​=54+2+0+2+4​=2.4\n",
    "\n",
    "    MAD for Dataset B:\n",
    "    MAD=∣10−14∣+∣12−14∣+∣14−14∣+∣16−14∣+∣100−14∣5=4+2+0+2+865=18.8\n",
    "    MAD=5∣10−14∣+∣12−14∣+∣14−14∣+∣16−14∣+∣100−14∣​=54+2+0+2+86​=18.8\n",
    "\n",
    "    SD for Dataset A:\n",
    "    Variance=(10−14)2+(12−14)2+(14−14)2+(16−14)2+(18−14)25=8\n",
    "    Variance=5(10−14)2+(12−14)2+(14−14)2+(16−14)2+(18−14)2​=8\n",
    "    SD=8≈2.83\n",
    "    SD=8\n",
    "\n",
    "​≈2.83\n",
    "\n",
    "SD for Dataset B:\n",
    "Variance=(10−14)2+(12−14)2+(14−14)2+(16−14)2+(100−14)25=1392\n",
    "Variance=5(10−14)2+(12−14)2+(14−14)2+(16−14)2+(100−14)2​=1392\n",
    "SD=1392≈37.31\n",
    "SD=1392\n",
    "\n",
    "    ​≈37.31\n",
    "\n",
    "In this case, the SD of Dataset B is much larger than the SD of Dataset A due to the outlier, highlighting the increased spread more dramatically than MAD does.\n",
    "2. Theoretical Significance\n",
    "\n",
    "Example: Normal Distribution\n",
    "\n",
    "In a normal distribution:\n",
    "\n",
    "    About 68% of data lies within one SD of the mean.\n",
    "    About 95% within two SDs.\n",
    "    About 99.7% within three SDs.\n",
    "\n",
    "Consider a dataset with mean = 50 and SD = 10.\n",
    "\n",
    "    If the data is normally distributed:\n",
    "        68% of values lie between 40 and 60.\n",
    "        95% lie between 30 and 70.\n",
    "        99.7% lie between 20 and 80.\n",
    "\n",
    "MAD does not have this property, making SD more useful for understanding data spread in the context of the normal distribution.\n",
    "3. Additivity and Decomposability\n",
    "\n",
    "Example: Variance Additivity\n",
    "\n",
    "Consider two independent random variables XX and YY:\n",
    "\n",
    "    XX has a variance of 4.\n",
    "    YY has a variance of 9.\n",
    "\n",
    "The variance of the sum X+YX+Y is:\n",
    "Var(X+Y)=Var(X)+Var(Y)=4+9=13\n",
    "Var(X+Y)=Var(X)+Var(Y)=4+9=13\n",
    "\n",
    "The standard deviation of X+YX+Y is 1313\n",
    "\n",
    "​.\n",
    "\n",
    "MAD does not have this additive property, making SD more suitable for combining variances in statistical models.\n",
    "4. Widely Accepted Standard\n",
    "\n",
    "Example: Comparing Studies\n",
    "\n",
    "Consider two studies measuring the same variable but reporting different measures of spread:\n",
    "\n",
    "    Study A reports a mean of 100 and an SD of 15.\n",
    "    Study B reports a mean of 100 and an MAD of 12.\n",
    "\n",
    "The SD is a widely recognized measure, making it easier to compare the variability across studies, as most statistical tools and conventions use SD.\n",
    "Practical Summary\n",
    "\n",
    "    Mathematical Properties: SD is more sensitive to outliers, highlighting significant deviations.\n",
    "    Theoretical Significance: SD fits well with the properties of the normal distribution, aiding in probabilistic interpretations.\n",
    "    Additivity and Decomposability: SD’s variance additivity property makes it useful in combining and analyzing multiple random variables.\n",
    "    Widely Accepted Standard: SD is the standard in many statistical analyses, facilitating comparisons and consistency across studies.\n",
    "\n",
    "Each of these points demonstrates the practical advantages of using standard deviation over mean absolute deviation in various contexts."
   ]
  },
  {
   "cell_type": "code",
   "execution_count": 15,
   "id": "e0c0c55d-e282-49bf-84bf-9a176218091b",
   "metadata": {},
   "outputs": [
    {
     "data": {
      "text/plain": [
       "3.999998999991874e+19"
      ]
     },
     "execution_count": 15,
     "metadata": {},
     "output_type": "execute_result"
    }
   ],
   "source": [
    "# Lets us take an extreme example\n",
    "extreme_arr = np.array([1, 100000, 1000000000, 100000000000000, 100000000000000000000])\n",
    "np.std(extreme_arr)"
   ]
  },
  {
   "cell_type": "markdown",
   "id": "d59b1c13-d357-4577-a725-74831a3371c3",
   "metadata": {},
   "source": [
    "When dealing with extreme distributions and high standard deviation, the efficiency and effectiveness of predictions or calculations can be impacted. However, the issue lies not in the standard deviation itself, but in the nature of the data and the assumptions underlying the statistical methods used.\n",
    "\n",
    "### Prediction within Extreme Distributions\n",
    "\n",
    "Let's consider how the standard deviation affects predictions and the implications of a high standard deviation:\n",
    "\n",
    "1. **Normal Distribution Assumption:**\n",
    "   - In a normally distributed dataset, about 68% of values fall within one standard deviation of the mean, 95% within two, and 99.7% within three.\n",
    "   - With a high standard deviation, the range within which these percentages fall becomes very large, making the predictions less precise.\n",
    "\n",
    "2. **Range of Predictions:**\n",
    "   - For your extreme array, a high standard deviation means that the range for predictions will be very broad. For example, if the mean is \\(2 \\times 10^{19}\\) and the standard deviation is \\(4 \\times 10^{19}\\), one standard deviation around the mean spans from \\(-2 \\times 10^{19}\\) to \\(6 \\times 10^{19}\\).\n",
    "\n",
    "### Practical Considerations\n",
    "\n",
    "1. **Inefficiency in Predictions:**\n",
    "   - The large range makes it less efficient to predict whether a given element falls within the distribution because almost any value could fall within a few standard deviations of the mean.\n",
    "\n",
    "2. **Alternative Measures:**\n",
    "   - **Robust Statistics:** Use measures less sensitive to outliers, such as the median and interquartile range (IQR).\n",
    "   - **Transformation:** Apply a log transformation to the data to reduce skewness and make the standard deviation more interpretable.\n",
    "   - **Trimming:** Exclude extreme outliers before calculating the standard deviation.\n",
    "\n",
    "### Example\n",
    "\n",
    "Consider a scenario where you want to predict whether a new value falls within the distribution of `extreme_arr`:\n",
    "\n",
    "```python\n",
    "extreme_arr = np.array([1, 100000, 1000000000, 100000000000000, 100000000000000000000])\n",
    "mean = np.mean(extreme_arr)\n",
    "std_dev = np.std(extreme_arr)\n",
    "\n",
    "# Predicting if a new value falls within 1 standard deviation of the mean\n",
    "new_value = 50000000000000000000\n",
    "lower_bound = mean - std_dev\n",
    "upper_bound = mean + std_dev\n",
    "\n",
    "is_within_range = lower_bound <= new_value <= upper_bound\n",
    "lower_bound, upper_bound, is_within_range\n",
    "```\n",
    "\n",
    "Output:\n",
    "```python\n",
    "(-1.999978999791874e+19, 5.999978999991874e+19, True)\n",
    "```\n",
    "\n",
    "The prediction range \\([-1.999978999791874 \\times 10^{19}, 5.999978999991874 \\times 10^{19}]\\) is very broad, and most values, including extremely high ones, will fall within this range.\n",
    "\n",
    "### Efficiency Considerations\n",
    "\n",
    "- **Reduced Precision:** High standard deviation reduces the precision of predictions.\n",
    "- **Increased Computational Complexity:** Handling very large numbers can increase computational complexity and the potential for numerical instability.\n",
    "\n",
    "### Alternative Approach\n",
    "\n",
    "To improve efficiency and make more meaningful predictions, consider:\n",
    "\n",
    "1. **Log Transformation:**\n",
    "   ```python\n",
    "   log_extreme_arr = np.log1p(extreme_arr)  # Apply log transformation\n",
    "   log_mean = np.mean(log_extreme_arr)\n",
    "   log_std_dev = np.std(log_extreme_arr)\n",
    "\n",
    "   log_new_value = np.log1p(new_value)\n",
    "   log_lower_bound = log_mean - log_std_dev\n",
    "   log_upper_bound = log_mean + log_std_dev\n",
    "\n",
    "   is_within_log_range = log_lower_bound <= log_new_value <= log_upper_bound\n",
    "   log_lower_bound, log_upper_bound, is_within_log_range\n",
    "   ```\n",
    "\n",
    "2. **Robust Measures:**\n",
    "   - Calculate median and IQR:\n",
    "     ```python\n",
    "     median = np.median(extreme_arr)\n",
    "     q75, q25 = np.percentile(extreme_arr, [75 ,25])\n",
    "     iqr = q75 - q25\n",
    "\n",
    "     robust_lower_bound = median - 1.5 * iqr\n",
    "     robust_upper_bound = median + 1.5 * iqr\n",
    "\n",
    "     is_within_robust_range = robust_lower_bound <= new_value <= robust_upper_bound\n",
    "     robust_lower_bound, robust_upper_bound, is_within_robust_range\n",
    "     ```\n",
    "\n",
    "### Conclusion\n",
    "\n",
    "While a high standard deviation in extreme distributions can make predictions less efficient, using alternative measures and transformations can help improve the precision and interpretability of predictions. By adopting robust statistical methods or transforming the data, you can mitigate the inefficiencies associated with high standard deviation in extreme cases."
   ]
  },
  {
   "cell_type": "code",
   "execution_count": 23,
   "id": "fc573df9-a2c4-4374-9723-a594b3e54d7e",
   "metadata": {},
   "outputs": [
    {
     "data": {
      "text/plain": [
       "(array([1., 0., 1., 0., 0., 1., 0., 1., 0., 1.]),\n",
       " array([ 2. ,  2.8,  3.6,  4.4,  5.2,  6. ,  6.8,  7.6,  8.4,  9.2, 10. ]),\n",
       " <BarContainer object of 10 artists>)"
      ]
     },
     "execution_count": 23,
     "metadata": {},
     "output_type": "execute_result"
    },
    {
     "data": {
      "image/png": "[encoded data removed]",
      "text/plain": [
       "<Figure size 640x480 with 1 Axes>"
      ]
     },
     "metadata": {},
     "output_type": "display_data"
    }
   ],
   "source": [
    "%matplotlib inline\n",
    "from matplotlib import pyplot as plt\n",
    "plt.hist(low_variance_array)"
   ]
  },
  {
   "cell_type": "code",
   "execution_count": 25,
   "id": "d72dea08-fa7d-46b7-acb8-edff4c0a045b",
   "metadata": {},
   "outputs": [
    {
     "data": {
      "text/plain": [
       "(array([3., 0., 0., 0., 0., 1., 0., 0., 0., 1.]),\n",
       " array([   10.,  1009.,  2008.,  3007.,  4006.,  5005.,  6004.,  7003.,\n",
       "         8002.,  9001., 10000.]),\n",
       " <BarContainer object of 10 artists>)"
      ]
     },
     "execution_count": 25,
     "metadata": {},
     "output_type": "execute_result"
    },
    {
     "data": {
      "image/png": "[encoded data removed]",
      "text/plain": [
       "<Figure size 640x480 with 1 Axes>"
      ]
     },
     "metadata": {},
     "output_type": "display_data"
    }
   ],
   "source": [
    "plt.hist(high_variance_array)"
   ]
  },
  {
   "cell_type": "code",
   "execution_count": 26,
   "id": "b9fd0081-0dfa-49e1-a618-179b8c6faab0",
   "metadata": {},
   "outputs": [
    {
     "data": {
      "text/plain": [
       "array([   10,   100,  1000, 10000,  5400])"
      ]
     },
     "execution_count": 26,
     "metadata": {},
     "output_type": "execute_result"
    }
   ],
   "source": [
    "high_variance_array"
   ]
  },
  {
   "cell_type": "code",
   "execution_count": 28,
   "id": "c56c3013-34fa-429d-ba96-11c989515212",
   "metadata": {},
   "outputs": [
    {
     "data": {
      "text/plain": [
       "(3889.834957938447, 3302.0)"
      ]
     },
     "execution_count": 28,
     "metadata": {},
     "output_type": "execute_result"
    }
   ],
   "source": [
    "np.std(high_variance_array), np.mean(high_variance_array)"
   ]
  },
  {
   "cell_type": "code",
   "execution_count": 32,
   "id": "1a2722c1-d9e6-4a2b-9cd3-205c6376b10b",
   "metadata": {},
   "outputs": [
    {
     "data": {
      "text/plain": [
       "[True, True, True, False, True]"
      ]
     },
     "execution_count": 32,
     "metadata": {},
     "output_type": "execute_result"
    }
   ],
   "source": [
    "# 65 % of the elements lie between a std deviation from the mean \n",
    "# that is\n",
    "[(np.mean(high_variance_array) - np.std(high_variance_array)) <= element <= (np.mean(high_variance_array) + np.std(high_variance_array)) for element in high_variance_array]"
   ]
  },
  {
   "cell_type": "code",
   "execution_count": 33,
   "id": "9c854fae-80ec-479c-81f2-568c406d7bbe",
   "metadata": {},
   "outputs": [
    {
     "data": {
      "text/plain": [
       "[True, True, True, True, True]"
      ]
     },
     "execution_count": 33,
     "metadata": {},
     "output_type": "execute_result"
    }
   ],
   "source": [
    "# 99.7 % of the elements lie between 3 std deviations from the mean \n",
    "# that is\n",
    "[(np.mean(high_variance_array) - 3*np.std(high_variance_array)) <= element <= (np.mean(high_variance_array) + 3*np.std(high_variance_array)) for element in high_variance_array]"
   ]
  },
  {
   "cell_type": "markdown",
   "id": "cdba9934-5c71-43eb-87a5-b772b60f5c5e",
   "metadata": {},
   "source": [
    "## This Holds true even for data with high variable"
   ]
  },
  {
   "cell_type": "code",
   "execution_count": null,
   "id": "bd41a111-9565-42f5-a5d2-7131c3603562",
   "metadata": {},
   "outputs": [],
   "source": []
  }
 ],
 "metadata": {
  "kernelspec": {
   "display_name": "Python 3 (ipykernel)",
   "language": "python",
   "name": "python3"
  },
  "language_info": {
   "codemirror_mode": {
    "name": "ipython",
    "version": 3
   },
   "file_extension": ".py",
   "mimetype": "text/x-python",
   "name": "python",
   "nbconvert_exporter": "python",
   "pygments_lexer": "ipython3",
   "version": "3.11.7"
  }
 },
 "nbformat": 4,
 "nbformat_minor": 5
}
