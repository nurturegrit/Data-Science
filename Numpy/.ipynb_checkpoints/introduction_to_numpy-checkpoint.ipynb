{
 "cells": [
  {
   "cell_type": "markdown",
   "id": "ee6a2822-6e31-4821-a10c-923f2ad2df3a",
   "metadata": {},
   "source": [
    "#### Numpy operations are a lot faster than lists in python, as their optimizations are written in C language (Through Vectorization via Broadcasting - Avoiding loops)"
   ]
  },
  {
   "cell_type": "markdown",
   "id": "61379bd3-b140-42ef-87d9-a4e86c269435",
   "metadata": {},
   "source": [
    "#### Machines understand ones and zeros which are more easily represented and worked with , in Numpy.\n",
    "\n",
    "#### Numpy is the backbone many other python packages, like Pandas"
   ]
  },
  {
   "cell_type": "code",
   "execution_count": 1,
   "id": "19287bf1-4f68-4710-a354-a57580f5b832",
   "metadata": {},
   "outputs": [],
   "source": [
    "import numpy as np"
   ]
  },
  {
   "cell_type": "markdown",
   "id": "a9d26288-48da-4774-8992-8ef26b2a5c71",
   "metadata": {},
   "source": [
    "## DataTypes & Attributes"
   ]
  },
  {
   "cell_type": "code",
   "execution_count": 2,
   "id": "3eef19c8-e839-4b6a-b932-2168f8927bea",
   "metadata": {},
   "outputs": [
    {
     "data": {
      "text/plain": [
       "array([1, 2, 3])"
      ]
     },
     "execution_count": 2,
     "metadata": {},
     "output_type": "execute_result"
    }
   ],
   "source": [
    "# Numpy's main datatype is ndarray. Almost everything in Numpy is an ndarray.\n",
    "a1 = np.array([1, 2, 3])\n",
    "a1"
   ]
  },
  {
   "cell_type": "code",
   "execution_count": 3,
   "id": "78c86bb9-b06c-4636-ae46-e907ed76e67d",
   "metadata": {},
   "outputs": [
    {
     "data": {
      "text/plain": [
       "numpy.ndarray"
      ]
     },
     "execution_count": 3,
     "metadata": {},
     "output_type": "execute_result"
    }
   ],
   "source": [
    "type(a1)"
   ]
  },
  {
   "cell_type": "code",
   "execution_count": 4,
   "id": "5fe88b2b-f8d3-4e3c-b450-25663232246b",
   "metadata": {},
   "outputs": [],
   "source": [
    "a2 = np.array([[1.5, 4.5, 7.5],\n",
    "              [1, 3, 6]])\n",
    "a3 = np.array([[[1, 2, 3], \n",
    "                [4, 5, 6], \n",
    "                [7, 8, 9]],\n",
    "              [[10, 11, 12], \n",
    "               [13, 14, 15],\n",
    "               [16, 17, 18]]])"
   ]
  },
  {
   "cell_type": "code",
   "execution_count": 6,
   "id": "7081b480-e69b-4884-9af2-3a6a2ec261f0",
   "metadata": {},
   "outputs": [
    {
     "data": {
      "text/plain": [
       "array([[1.5, 4.5, 7.5],\n",
       "       [1. , 3. , 6. ]])"
      ]
     },
     "execution_count": 6,
     "metadata": {},
     "output_type": "execute_result"
    }
   ],
   "source": [
    "a2"
   ]
  },
  {
   "cell_type": "code",
   "execution_count": 7,
   "id": "78f97399-d9ee-44ba-8c13-087e8a0e4b97",
   "metadata": {},
   "outputs": [
    {
     "data": {
      "text/plain": [
       "array([[[ 1,  2,  3],\n",
       "        [ 4,  5,  6],\n",
       "        [ 7,  8,  9]],\n",
       "\n",
       "       [[10, 11, 12],\n",
       "        [13, 14, 15],\n",
       "        [16, 17, 18]]])"
      ]
     },
     "execution_count": 7,
     "metadata": {},
     "output_type": "execute_result"
    }
   ],
   "source": [
    "a3"
   ]
  },
  {
   "cell_type": "code",
   "execution_count": 9,
   "id": "bdd9f3b3-e942-4400-80bb-a67f8e038936",
   "metadata": {},
   "outputs": [
    {
     "data": {
      "text/plain": [
       "((3,), (2, 3), (2, 3, 3))"
      ]
     },
     "execution_count": 9,
     "metadata": {},
     "output_type": "execute_result"
    }
   ],
   "source": [
    "a1.shape, a2.shape, a3.shape"
   ]
  },
  {
   "cell_type": "code",
   "execution_count": 11,
   "id": "ba318c33-a067-4670-8066-80dce729b31e",
   "metadata": {},
   "outputs": [
    {
     "data": {
      "text/plain": [
       "(dtype('int32'), dtype('float64'), dtype('int32'))"
      ]
     },
     "execution_count": 11,
     "metadata": {},
     "output_type": "execute_result"
    }
   ],
   "source": [
    "a1.dtype, a2.dtype, a3.dtype"
   ]
  },
  {
   "cell_type": "code",
   "execution_count": 14,
   "id": "e5993032-8646-49a9-90b6-d437c8199e83",
   "metadata": {},
   "outputs": [
    {
     "data": {
      "text/plain": [
       "(1, 2, 3)"
      ]
     },
     "execution_count": 14,
     "metadata": {},
     "output_type": "execute_result"
    }
   ],
   "source": [
    "a1.ndim, a2.ndim, a3.ndim # Dimensions of an array"
   ]
  },
  {
   "cell_type": "code",
   "execution_count": 17,
   "id": "adffd0a5-7f36-4f42-87ff-0ffd15ff1530",
   "metadata": {},
   "outputs": [
    {
     "name": "stdout",
     "output_type": "stream",
     "text": [
      "[1 2 3] \n",
      "\n",
      " [[1.5 4.5 7.5]\n",
      " [1.  3.  6. ]] \n",
      "\n",
      " [[[ 1  2  3]\n",
      "  [ 4  5  6]\n",
      "  [ 7  8  9]]\n",
      "\n",
      " [[10 11 12]\n",
      "  [13 14 15]\n",
      "  [16 17 18]]]\n"
     ]
    }
   ],
   "source": [
    "print(a1, '\\n\\n', a2, '\\n\\n', a3)"
   ]
  },
  {
   "cell_type": "code",
   "execution_count": 18,
   "id": "3e0e105c-cafa-4614-8204-b3179288ddcc",
   "metadata": {},
   "outputs": [
    {
     "data": {
      "text/plain": [
       "(3, 6, 18)"
      ]
     },
     "execution_count": 18,
     "metadata": {},
     "output_type": "execute_result"
    }
   ],
   "source": [
    "a1.size, a2.size, a3.size # gives number of elements in an array"
   ]
  },
  {
   "cell_type": "code",
   "execution_count": 19,
   "id": "e1b1f918-1cd4-4962-aaa5-996f6eb1bee1",
   "metadata": {},
   "outputs": [
    {
     "data": {
      "text/plain": [
       "(numpy.ndarray, numpy.ndarray, numpy.ndarray)"
      ]
     },
     "execution_count": 19,
     "metadata": {},
     "output_type": "execute_result"
    }
   ],
   "source": [
    "type(a1), type(a2), type(a3)"
   ]
  },
  {
   "cell_type": "code",
   "execution_count": 22,
   "id": "685dce04-26e5-4d5a-8f2e-6bc1cb5a5c20",
   "metadata": {},
   "outputs": [
    {
     "name": "stdout",
     "output_type": "stream",
     "text": [
      "[[1.5 4.5 7.5]\n",
      " [1.  3.  6. ]]\n",
      "\n",
      "\n"
     ]
    },
    {
     "data": {
      "text/html": [
       "<div>\n",
       "<style scoped>\n",
       "    .dataframe tbody tr th:only-of-type {\n",
       "        vertical-align: middle;\n",
       "    }\n",
       "\n",
       "    .dataframe tbody tr th {\n",
       "        vertical-align: top;\n",
       "    }\n",
       "\n",
       "    .dataframe thead th {\n",
       "        text-align: right;\n",
       "    }\n",
       "</style>\n",
       "<table border=\"1\" class=\"dataframe\">\n",
       "  <thead>\n",
       "    <tr style=\"text-align: right;\">\n",
       "      <th></th>\n",
       "      <th>0</th>\n",
       "      <th>1</th>\n",
       "      <th>2</th>\n",
       "    </tr>\n",
       "  </thead>\n",
       "  <tbody>\n",
       "    <tr>\n",
       "      <th>0</th>\n",
       "      <td>1.5</td>\n",
       "      <td>4.5</td>\n",
       "      <td>7.5</td>\n",
       "    </tr>\n",
       "    <tr>\n",
       "      <th>1</th>\n",
       "      <td>1.0</td>\n",
       "      <td>3.0</td>\n",
       "      <td>6.0</td>\n",
       "    </tr>\n",
       "  </tbody>\n",
       "</table>\n",
       "</div>"
      ],
      "text/plain": [
       "     0    1    2\n",
       "0  1.5  4.5  7.5\n",
       "1  1.0  3.0  6.0"
      ]
     },
     "execution_count": 22,
     "metadata": {},
     "output_type": "execute_result"
    }
   ],
   "source": [
    "# Create a DataFrame from a Numpy array\n",
    "import pandas as pd\n",
    "print(a2)\n",
    "print()\n",
    "print()\n",
    "df = pd.DataFrame(a2)\n",
    "df"
   ]
  },
  {
   "cell_type": "markdown",
   "id": "07e5bd1b-14cf-40e4-bd42-ac84ce1d7ceb",
   "metadata": {},
   "source": [
    "## Creating numpy arrays"
   ]
  },
  {
   "cell_type": "code",
   "execution_count": 23,
   "id": "4f7eb3af-5748-4f10-a92b-d767fc48c0cb",
   "metadata": {},
   "outputs": [
    {
     "data": {
      "text/plain": [
       "array([1, 2, 3])"
      ]
     },
     "execution_count": 23,
     "metadata": {},
     "output_type": "execute_result"
    }
   ],
   "source": [
    "sample_array = np.array([1, 2, 3])\n",
    "sample_array"
   ]
  },
  {
   "cell_type": "code",
   "execution_count": 24,
   "id": "3401880b-037e-403f-befe-b65a35532133",
   "metadata": {},
   "outputs": [
    {
     "data": {
      "text/plain": [
       "dtype('int32')"
      ]
     },
     "execution_count": 24,
     "metadata": {},
     "output_type": "execute_result"
    }
   ],
   "source": [
    "sample_array.dtype"
   ]
  },
  {
   "cell_type": "code",
   "execution_count": 26,
   "id": "77c03113-7419-4ac2-9017-510423b23278",
   "metadata": {},
   "outputs": [
    {
     "data": {
      "text/plain": [
       "array([[1., 1., 1.],\n",
       "       [1., 1., 1.]])"
      ]
     },
     "execution_count": 26,
     "metadata": {},
     "output_type": "execute_result"
    }
   ],
   "source": [
    "ones = np.ones((2, 3))# press shift + tab while cursor is in brackets call of function\n",
    "ones"
   ]
  },
  {
   "cell_type": "code",
   "execution_count": 27,
   "id": "297e2284-ca73-4532-b9e6-74c0dd251b53",
   "metadata": {},
   "outputs": [
    {
     "data": {
      "text/plain": [
       "dtype('float64')"
      ]
     },
     "execution_count": 27,
     "metadata": {},
     "output_type": "execute_result"
    }
   ],
   "source": [
    "ones.dtype"
   ]
  },
  {
   "cell_type": "code",
   "execution_count": 28,
   "id": "c78de8e3-85fc-4bdc-93f9-46a70640403f",
   "metadata": {},
   "outputs": [
    {
     "data": {
      "text/plain": [
       "numpy.ndarray"
      ]
     },
     "execution_count": 28,
     "metadata": {},
     "output_type": "execute_result"
    }
   ],
   "source": [
    "type(ones)"
   ]
  },
  {
   "cell_type": "code",
   "execution_count": 29,
   "id": "a7937371-56d6-4fbc-abf5-e48217c974aa",
   "metadata": {},
   "outputs": [
    {
     "data": {
      "text/plain": [
       "array([[0., 0., 0.],\n",
       "       [0., 0., 0.]])"
      ]
     },
     "execution_count": 29,
     "metadata": {},
     "output_type": "execute_result"
    }
   ],
   "source": [
    "zeros = np.zeros((2, 3))\n",
    "zeros"
   ]
  },
  {
   "cell_type": "code",
   "execution_count": 30,
   "id": "570e07d9-c663-4ac8-bea6-ff49bffbe11e",
   "metadata": {},
   "outputs": [
    {
     "data": {
      "text/plain": [
       "array([0, 2, 4, 6, 8])"
      ]
     },
     "execution_count": 30,
     "metadata": {},
     "output_type": "execute_result"
    }
   ],
   "source": [
    "range_array = np.arange(0, 10, 2)\n",
    "range_array"
   ]
  },
  {
   "cell_type": "code",
   "execution_count": 45,
   "id": "c9baad6d-03f1-4d75-a26c-472c5070cee3",
   "metadata": {},
   "outputs": [
    {
     "data": {
      "text/plain": [
       "array([[9, 9, 2, 2, 3],\n",
       "       [9, 5, 0, 8, 3],\n",
       "       [7, 0, 0, 8, 3]])"
      ]
     },
     "execution_count": 45,
     "metadata": {},
     "output_type": "execute_result"
    }
   ],
   "source": [
    "random_array = np.random.randint(0, 10, size=(3, 5))\n",
    "random_array"
   ]
  },
  {
   "cell_type": "code",
   "execution_count": 46,
   "id": "67aadb62-811a-4796-8285-8232f227a66f",
   "metadata": {},
   "outputs": [
    {
     "data": {
      "text/plain": [
       "(15, (3, 5))"
      ]
     },
     "execution_count": 46,
     "metadata": {},
     "output_type": "execute_result"
    }
   ],
   "source": [
    "random_array.size, random_array.shape"
   ]
  },
  {
   "cell_type": "code",
   "execution_count": 47,
   "id": "6a6efcda-858b-4de2-aca8-93bb9cb37f5c",
   "metadata": {},
   "outputs": [
    {
     "data": {
      "text/plain": [
       "array([[0.93573314, 0.77942549, 0.66732502],\n",
       "       [0.71456737, 0.42471539, 0.84632247],\n",
       "       [0.06280442, 0.04342134, 0.60673275],\n",
       "       [0.24697865, 0.43887823, 0.52501236],\n",
       "       [0.58480108, 0.04383657, 0.09423362]])"
      ]
     },
     "execution_count": 47,
     "metadata": {},
     "output_type": "execute_result"
    }
   ],
   "source": [
    "random_array_2 = np.random.random((5, 3))\n",
    "random_array_2"
   ]
  },
  {
   "cell_type": "code",
   "execution_count": 48,
   "id": "8cadcde9-49c5-41db-9975-3e553d74004f",
   "metadata": {},
   "outputs": [
    {
     "data": {
      "text/plain": [
       "(5, 3)"
      ]
     },
     "execution_count": 48,
     "metadata": {},
     "output_type": "execute_result"
    }
   ],
   "source": [
    "random_array_2.shape"
   ]
  },
  {
   "cell_type": "code",
   "execution_count": 49,
   "id": "6cd96184-5c0f-4e15-afa8-e6245092e018",
   "metadata": {},
   "outputs": [
    {
     "data": {
      "text/plain": [
       "array([[0.91292238, 0.38952842, 0.97225643],\n",
       "       [0.90535506, 0.0849249 , 0.29583457],\n",
       "       [0.88511365, 0.02155003, 0.65392475],\n",
       "       [0.94638107, 0.82230204, 0.19964049],\n",
       "       [0.63553571, 0.43213421, 0.74339111]])"
      ]
     },
     "execution_count": 49,
     "metadata": {},
     "output_type": "execute_result"
    }
   ],
   "source": [
    "random_array_3 = np.random.rand(5, 3)\n",
    "random_array_3"
   ]
  },
  {
   "cell_type": "code",
   "execution_count": 50,
   "id": "3e5f25dd-fecc-4f05-8520-6ad201039f68",
   "metadata": {},
   "outputs": [
    {
     "data": {
      "text/plain": [
       "(5, 3)"
      ]
     },
     "execution_count": 50,
     "metadata": {},
     "output_type": "execute_result"
    }
   ],
   "source": [
    "random_array_3.shape"
   ]
  },
  {
   "cell_type": "code",
   "execution_count": 53,
   "id": "4739bef6-d80c-4376-9f01-c28e4db3be94",
   "metadata": {},
   "outputs": [
    {
     "data": {
      "text/plain": [
       "array([[0.07630829, 0.77991879, 0.43840923, 0.72346518, 0.97798951],\n",
       "       [0.53849587, 0.50112046, 0.07205113, 0.26843898, 0.4998825 ],\n",
       "       [0.67923   , 0.80373904, 0.38094113, 0.06593635, 0.2881456 ]])"
      ]
     },
     "execution_count": 53,
     "metadata": {},
     "output_type": "execute_result"
    }
   ],
   "source": [
    "# Random Numbers are actually Pseudo_Random, it depends on the seed selected\n",
    "np.random.seed(7)\n",
    "random_array_seed_7 = np.random.rand(3,5)\n",
    "random_array_seed_7"
   ]
  },
  {
   "cell_type": "code",
   "execution_count": 57,
   "id": "0a6d445e-3810-4fa4-a0ec-c920b45c9258",
   "metadata": {},
   "outputs": [
    {
     "data": {
      "text/plain": [
       "array([[9, 4, 0, 1, 9],\n",
       "       [0, 1, 8, 9, 0],\n",
       "       [8, 6, 4, 3, 0]])"
      ]
     },
     "execution_count": 57,
     "metadata": {},
     "output_type": "execute_result"
    }
   ],
   "source": [
    "np.random.seed(10)\n",
    "random_array_seed_10 = np.random.randint(0, 10, size=(3,5))\n",
    "random_array_seed_10"
   ]
  },
  {
   "cell_type": "code",
   "execution_count": 61,
   "id": "82bc5d27-b97e-419c-b876-ec13f39c0482",
   "metadata": {},
   "outputs": [
    {
     "data": {
      "text/plain": [
       "array([[0.47647895, 0.45710383],\n",
       "       [0.60907133, 0.43304018]])"
      ]
     },
     "execution_count": 61,
     "metadata": {},
     "output_type": "execute_result"
    }
   ],
   "source": [
    "# In case of random without seed, what is happening is that seed is randomly selected.\n",
    "np.random.seed()\n",
    "random_array_random_seed = np.random.random(size=(2,2))\n",
    "random_array_random_seed"
   ]
  },
  {
   "cell_type": "markdown",
   "id": "45b40903-8ebc-48d4-8486-8ed8eeaead93",
   "metadata": {},
   "source": [
    "### In the above examples, you can check whether the output changes when running the cells again and again depending on seed value"
   ]
  },
  {
   "cell_type": "code",
   "execution_count": 66,
   "id": "5c2acdf2-bf2f-4ac2-b9bf-d77ada0042b7",
   "metadata": {},
   "outputs": [
    {
     "data": {
      "text/plain": [
       "array([[9, 9, 2, 2, 3],\n",
       "       [9, 5, 0, 8, 3],\n",
       "       [7, 0, 0, 8, 3]])"
      ]
     },
     "execution_count": 66,
     "metadata": {},
     "output_type": "execute_result"
    }
   ],
   "source": [
    "random_array"
   ]
  },
  {
   "cell_type": "code",
   "execution_count": 68,
   "id": "304d33af-a4c6-4c70-9d09-2039d019e7ac",
   "metadata": {},
   "outputs": [
    {
     "data": {
      "text/plain": [
       "array([0, 2, 3, 5, 7, 8, 9])"
      ]
     },
     "execution_count": 68,
     "metadata": {},
     "output_type": "execute_result"
    }
   ],
   "source": [
    "# Check unique elements\n",
    "np.unique(random_array)"
   ]
  },
  {
   "cell_type": "markdown",
   "id": "c9516d4b-f94d-4d49-8beb-766d7fa4f6d1",
   "metadata": {},
   "source": [
    "## Viewing Arrays and Matrices"
   ]
  },
  {
   "cell_type": "code",
   "execution_count": 73,
   "id": "44d9a5f7-cdbf-4f22-ba9c-115c4b9297f6",
   "metadata": {},
   "outputs": [
    {
     "name": "stdout",
     "output_type": "stream",
     "text": [
      "a1:\n",
      " [1 2 3] \n",
      "\n",
      "a2:\n",
      " [[1.5 4.5 7.5]\n",
      " [1.  3.  6. ]] \n",
      "\n",
      "a3:\n",
      " [[[ 1  2  3]\n",
      "  [ 4  5  6]\n",
      "  [ 7  8  9]]\n",
      "\n",
      " [[10 11 12]\n",
      "  [13 14 15]\n",
      "  [16 17 18]]]\n"
     ]
    }
   ],
   "source": [
    "print('a1:\\n',a1, '\\n\\na2:\\n',a2, '\\n\\na3:\\n', a3)"
   ]
  },
  {
   "cell_type": "code",
   "execution_count": 76,
   "id": "f9bed006-3fe0-4a22-be52-177ef18d6449",
   "metadata": {},
   "outputs": [
    {
     "name": "stdout",
     "output_type": "stream",
     "text": [
      "a1[0]:\n",
      " 1 \n",
      "\n",
      "a2[0]:\n",
      " [1.5 4.5 7.5] \n",
      "\n",
      "a3[0]:\n",
      " [[1 2 3]\n",
      " [4 5 6]\n",
      " [7 8 9]]\n"
     ]
    }
   ],
   "source": [
    "print('a1[0]:\\n',a1[0], '\\n\\na2[0]:\\n',a2[0], '\\n\\na3[0]:\\n', a3[0])"
   ]
  },
  {
   "cell_type": "code",
   "execution_count": 77,
   "id": "26bf16ac-382a-4bc3-932e-627b8022675b",
   "metadata": {},
   "outputs": [
    {
     "data": {
      "text/plain": [
       "((3,), (2, 3), (2, 3, 3))"
      ]
     },
     "execution_count": 77,
     "metadata": {},
     "output_type": "execute_result"
    }
   ],
   "source": [
    "a1.shape, a2.shape, a3.shape\n",
    "# a1[0] gives 1 element\n",
    "# a2[0] gives 1st of the 2 lists of 3 elements -- a2 is 2 lists of 3 elements -- 2,3\n",
    "# a3[0] gives 1st of the 2 (3x3) Matrices -- a3 is 2 matrices of 3x3 -- 2,3,3"
   ]
  },
  {
   "cell_type": "markdown",
   "id": "5ef70bbc-fb67-4f1b-87c9-84580949ccc9",
   "metadata": {},
   "source": [
    "### So we can say that first element of shape is the highest dimension and last element is the lowest dimension"
   ]
  },
  {
   "cell_type": "code",
   "execution_count": 84,
   "id": "b03c55ec-8680-45c4-8a1e-fc800f1fe016",
   "metadata": {},
   "outputs": [
    {
     "name": "stdout",
     "output_type": "stream",
     "text": [
      "[[[ 1  2  3]\n",
      "  [ 4  5  6]\n",
      "  [ 7  8  9]]\n",
      "\n",
      " [[10 11 12]\n",
      "  [13 14 15]\n",
      "  [16 17 18]]] \n",
      "\n",
      "\n"
     ]
    },
    {
     "data": {
      "text/plain": [
       "array([[[1, 2],\n",
       "        [4, 5],\n",
       "        [7, 8]]])"
      ]
     },
     "execution_count": 84,
     "metadata": {},
     "output_type": "execute_result"
    }
   ],
   "source": [
    "# we can also use slicing on ndarrays\n",
    "# slicing works according to the above heading\n",
    "print(a3, '\\n\\n')\n",
    "a3[:1, :, :2]"
   ]
  },
  {
   "cell_type": "code",
   "execution_count": 85,
   "id": "2dec92b4-b1ba-4639-8207-4c3198c9f408",
   "metadata": {},
   "outputs": [
    {
     "data": {
      "text/plain": [
       "array([[[[5, 7, 7, 6, 5],\n",
       "         [2, 4, 2, 8, 5],\n",
       "         [1, 2, 2, 1, 7],\n",
       "         [4, 6, 4, 3, 3]],\n",
       "\n",
       "        [[7, 8, 4, 4, 2],\n",
       "         [5, 3, 2, 7, 8],\n",
       "         [7, 3, 3, 6, 6],\n",
       "         [9, 0, 7, 2, 7]],\n",
       "\n",
       "        [[6, 9, 2, 7, 5],\n",
       "         [4, 7, 6, 4, 5],\n",
       "         [0, 5, 5, 5, 9],\n",
       "         [2, 2, 1, 9, 8]]],\n",
       "\n",
       "\n",
       "       [[[6, 9, 4, 1, 2],\n",
       "         [3, 7, 5, 5, 6],\n",
       "         [3, 7, 0, 5, 9],\n",
       "         [8, 2, 1, 0, 7]],\n",
       "\n",
       "        [[8, 4, 8, 3, 4],\n",
       "         [4, 5, 6, 5, 0],\n",
       "         [8, 6, 7, 8, 7],\n",
       "         [3, 4, 9, 7, 6]],\n",
       "\n",
       "        [[8, 9, 7, 6, 5],\n",
       "         [4, 2, 9, 9, 8],\n",
       "         [4, 7, 5, 2, 4],\n",
       "         [4, 5, 0, 1, 6]]]])"
      ]
     },
     "execution_count": 85,
     "metadata": {},
     "output_type": "execute_result"
    }
   ],
   "source": [
    "random_arr = np.random.randint(10, size=(2,3,4,5))\n",
    "random_arr"
   ]
  },
  {
   "cell_type": "code",
   "execution_count": 86,
   "id": "e1ef1ed9-7edd-4557-9eee-ac62c75186c8",
   "metadata": {},
   "outputs": [
    {
     "data": {
      "text/plain": [
       "array([[[[5],\n",
       "         [2],\n",
       "         [1],\n",
       "         [4]],\n",
       "\n",
       "        [[7],\n",
       "         [5],\n",
       "         [7],\n",
       "         [9]],\n",
       "\n",
       "        [[6],\n",
       "         [4],\n",
       "         [0],\n",
       "         [2]]],\n",
       "\n",
       "\n",
       "       [[[6],\n",
       "         [3],\n",
       "         [3],\n",
       "         [8]],\n",
       "\n",
       "        [[8],\n",
       "         [4],\n",
       "         [8],\n",
       "         [3]],\n",
       "\n",
       "        [[8],\n",
       "         [4],\n",
       "         [4],\n",
       "         [4]]]])"
      ]
     },
     "execution_count": 86,
     "metadata": {},
     "output_type": "execute_result"
    }
   ],
   "source": [
    "random_arr[:, :, :, :1]"
   ]
  },
  {
   "cell_type": "code",
   "execution_count": 88,
   "id": "8d267a5a-8432-462b-aef2-1582105b0618",
   "metadata": {},
   "outputs": [
    {
     "data": {
      "text/plain": [
       "array([[[[5]]]])"
      ]
     },
     "execution_count": 88,
     "metadata": {},
     "output_type": "execute_result"
    }
   ],
   "source": [
    "random_arr[:1, :1, :1, :1]"
   ]
  },
  {
   "cell_type": "code",
   "execution_count": 91,
   "id": "6e954148-cc0c-4cf4-b9b5-bcc33fdf73d4",
   "metadata": {},
   "outputs": [
    {
     "data": {
      "text/plain": [
       "array([[[[ True,  True,  True,  True,  True],\n",
       "         [ True,  True,  True,  True,  True],\n",
       "         [ True,  True,  True,  True,  True],\n",
       "         [ True,  True,  True,  True,  True]],\n",
       "\n",
       "        [[ True,  True,  True,  True,  True],\n",
       "         [ True,  True,  True,  True,  True],\n",
       "         [ True,  True,  True,  True,  True],\n",
       "         [ True,  True,  True,  True,  True]],\n",
       "\n",
       "        [[ True,  True,  True,  True,  True],\n",
       "         [ True,  True,  True,  True,  True],\n",
       "         [ True,  True,  True,  True,  True],\n",
       "         [ True,  True,  True,  True,  True]]]])"
      ]
     },
     "execution_count": 91,
     "metadata": {},
     "output_type": "execute_result"
    }
   ],
   "source": [
    "random_arr[:1] == random_arr[0]"
   ]
  },
  {
   "cell_type": "markdown",
   "id": "7cf96a90-0429-4b33-a507-945da45cdf5c",
   "metadata": {},
   "source": [
    "## Manipulating & Comparing Arrays"
   ]
  },
  {
   "cell_type": "markdown",
   "id": "f61f5155-fb75-4d17-b490-4270557fb4e6",
   "metadata": {},
   "source": [
    "### Arithematic"
   ]
  },
  {
   "cell_type": "code",
   "execution_count": 92,
   "id": "89a9502a-864f-4a37-8549-6317e70c0bdf",
   "metadata": {},
   "outputs": [
    {
     "data": {
      "text/plain": [
       "array([1, 2, 3])"
      ]
     },
     "execution_count": 92,
     "metadata": {},
     "output_type": "execute_result"
    }
   ],
   "source": [
    "a1"
   ]
  },
  {
   "cell_type": "code",
   "execution_count": 94,
   "id": "21865737-026c-4d32-9308-cb1c5c5d72fe",
   "metadata": {},
   "outputs": [
    {
     "data": {
      "text/plain": [
       "array([1., 1., 1.])"
      ]
     },
     "execution_count": 94,
     "metadata": {},
     "output_type": "execute_result"
    }
   ],
   "source": [
    "ones = np.ones(3)\n",
    "ones"
   ]
  },
  {
   "cell_type": "code",
   "execution_count": 95,
   "id": "362063d6-bb66-4db8-833d-043e02a94b39",
   "metadata": {},
   "outputs": [
    {
     "data": {
      "text/plain": [
       "array([2., 3., 4.])"
      ]
     },
     "execution_count": 95,
     "metadata": {},
     "output_type": "execute_result"
    }
   ],
   "source": [
    "a1 + ones"
   ]
  },
  {
   "cell_type": "code",
   "execution_count": 96,
   "id": "82b6f620-1081-45db-9896-4e0a3eab0b11",
   "metadata": {},
   "outputs": [
    {
     "data": {
      "text/plain": [
       "array([0., 1., 2.])"
      ]
     },
     "execution_count": 96,
     "metadata": {},
     "output_type": "execute_result"
    }
   ],
   "source": [
    "a1 - ones"
   ]
  },
  {
   "cell_type": "code",
   "execution_count": 97,
   "id": "0385e925-60b9-495a-ae96-ec4fb9369c8a",
   "metadata": {},
   "outputs": [
    {
     "data": {
      "text/plain": [
       "array([1., 2., 3.])"
      ]
     },
     "execution_count": 97,
     "metadata": {},
     "output_type": "execute_result"
    }
   ],
   "source": [
    "a1 * ones"
   ]
  },
  {
   "cell_type": "code",
   "execution_count": 99,
   "id": "dfeccef7-3d77-46ae-bc7a-449bbf5a87e3",
   "metadata": {},
   "outputs": [
    {
     "data": {
      "text/plain": [
       "array([1, 2, 3])"
      ]
     },
     "execution_count": 99,
     "metadata": {},
     "output_type": "execute_result"
    }
   ],
   "source": [
    "a1"
   ]
  },
  {
   "cell_type": "code",
   "execution_count": 98,
   "id": "5611c5a1-bda7-4908-97ab-62abb227f3d4",
   "metadata": {},
   "outputs": [
    {
     "data": {
      "text/plain": [
       "array([[1.5, 4.5, 7.5],\n",
       "       [1. , 3. , 6. ]])"
      ]
     },
     "execution_count": 98,
     "metadata": {},
     "output_type": "execute_result"
    }
   ],
   "source": [
    "a2"
   ]
  },
  {
   "cell_type": "code",
   "execution_count": 100,
   "id": "229c3a55-8234-4a62-acfe-95be683cc604",
   "metadata": {},
   "outputs": [
    {
     "data": {
      "text/plain": [
       "array([[ 1.5,  9. , 22.5],\n",
       "       [ 1. ,  6. , 18. ]])"
      ]
     },
     "execution_count": 100,
     "metadata": {},
     "output_type": "execute_result"
    }
   ],
   "source": [
    "a1 * a2"
   ]
  },
  {
   "cell_type": "code",
   "execution_count": 101,
   "id": "bf4d5c64-fb59-4786-9435-7c7d3e074377",
   "metadata": {},
   "outputs": [
    {
     "data": {
      "text/plain": [
       "array([[[ 1,  2,  3],\n",
       "        [ 4,  5,  6],\n",
       "        [ 7,  8,  9]],\n",
       "\n",
       "       [[10, 11, 12],\n",
       "        [13, 14, 15],\n",
       "        [16, 17, 18]]])"
      ]
     },
     "execution_count": 101,
     "metadata": {},
     "output_type": "execute_result"
    }
   ],
   "source": [
    "a3"
   ]
  },
  {
   "cell_type": "code",
   "execution_count": 102,
   "id": "9f0ed799-2c13-41c8-8c57-1c2acb33ee1c",
   "metadata": {},
   "outputs": [
    {
     "ename": "ValueError",
     "evalue": "operands could not be broadcast together with shapes (2,3) (2,3,3) ",
     "output_type": "error",
     "traceback": [
      "\u001b[1;31m---------------------------------------------------------------------------\u001b[0m",
      "\u001b[1;31mValueError\u001b[0m                                Traceback (most recent call last)",
      "Cell \u001b[1;32mIn[102], line 1\u001b[0m\n\u001b[1;32m----> 1\u001b[0m a2 \u001b[38;5;241m*\u001b[39m a3\n",
      "\u001b[1;31mValueError\u001b[0m: operands could not be broadcast together with shapes (2,3) (2,3,3) "
     ]
    }
   ],
   "source": [
    "a2 * a3"
   ]
  },
  {
   "cell_type": "code",
   "execution_count": 103,
   "id": "9d45216c-ebcb-4974-95ef-ca7b8c240796",
   "metadata": {},
   "outputs": [
    {
     "data": {
      "text/plain": [
       "array([1., 2., 3.])"
      ]
     },
     "execution_count": 103,
     "metadata": {},
     "output_type": "execute_result"
    }
   ],
   "source": [
    "a1 / ones"
   ]
  },
  {
   "cell_type": "code",
   "execution_count": 104,
   "id": "825c0170-8d13-4162-8a0d-fd9a82d8c90b",
   "metadata": {},
   "outputs": [
    {
     "data": {
      "text/plain": [
       "array([[1., 2., 2.],\n",
       "       [1., 1., 2.]])"
      ]
     },
     "execution_count": 104,
     "metadata": {},
     "output_type": "execute_result"
    }
   ],
   "source": [
    "a2 // a1"
   ]
  },
  {
   "cell_type": "code",
   "execution_count": 105,
   "id": "6f2fd2e0-2b3c-4286-8d20-6c9be9b35183",
   "metadata": {},
   "outputs": [
    {
     "data": {
      "text/plain": [
       "array([[1.5 , 2.25, 2.5 ],\n",
       "       [1.  , 1.5 , 2.  ]])"
      ]
     },
     "execution_count": 105,
     "metadata": {},
     "output_type": "execute_result"
    }
   ],
   "source": [
    "a2 / a1"
   ]
  },
  {
   "cell_type": "code",
   "execution_count": 106,
   "id": "5f821e5a-b2dc-4e75-bca6-f0bf0155abf8",
   "metadata": {},
   "outputs": [
    {
     "data": {
      "text/plain": [
       "array([[ 2.25, 20.25, 56.25],\n",
       "       [ 1.  ,  9.  , 36.  ]])"
      ]
     },
     "execution_count": 106,
     "metadata": {},
     "output_type": "execute_result"
    }
   ],
   "source": [
    "a2 ** 2"
   ]
  },
  {
   "cell_type": "code",
   "execution_count": 107,
   "id": "ca599cef-29de-41df-a7cc-837b3ed9f747",
   "metadata": {},
   "outputs": [
    {
     "data": {
      "text/plain": [
       "array([[1.5, 4.5, 7.5],\n",
       "       [1. , 3. , 6. ]])"
      ]
     },
     "execution_count": 107,
     "metadata": {},
     "output_type": "execute_result"
    }
   ],
   "source": [
    "a2"
   ]
  },
  {
   "cell_type": "code",
   "execution_count": 108,
   "id": "afeb01cc-538c-4162-a539-75ce5ab5c32c",
   "metadata": {},
   "outputs": [
    {
     "data": {
      "text/plain": [
       "array([1, 0, 1], dtype=int32)"
      ]
     },
     "execution_count": 108,
     "metadata": {},
     "output_type": "execute_result"
    }
   ],
   "source": [
    "np.square(a1)\n",
    "np.add(a1, ones)\n",
    "a1 % 2\n",
    "np.mod(a1, 2)"
   ]
  },
  {
   "cell_type": "code",
   "execution_count": 109,
   "id": "48de9fbc-0f11-47a6-a97a-01eb94793640",
   "metadata": {},
   "outputs": [
    {
     "data": {
      "text/plain": [
       "array([1, 2, 3])"
      ]
     },
     "execution_count": 109,
     "metadata": {},
     "output_type": "execute_result"
    }
   ],
   "source": [
    "a1"
   ]
  },
  {
   "cell_type": "code",
   "execution_count": 110,
   "id": "c7268eb2-abbe-4f8f-9fc6-ab8bfd635dc3",
   "metadata": {},
   "outputs": [
    {
     "data": {
      "text/plain": [
       "array([ 2.71828183,  7.3890561 , 20.08553692])"
      ]
     },
     "execution_count": 110,
     "metadata": {},
     "output_type": "execute_result"
    }
   ],
   "source": [
    "np.exp(a1)"
   ]
  },
  {
   "cell_type": "code",
   "execution_count": 111,
   "id": "e7cda2b4-8888-4249-8e1e-6cd7a2de7703",
   "metadata": {},
   "outputs": [
    {
     "data": {
      "text/plain": [
       "array([0.        , 0.69314718, 1.09861229])"
      ]
     },
     "execution_count": 111,
     "metadata": {},
     "output_type": "execute_result"
    }
   ],
   "source": [
    "np.log(a1)"
   ]
  },
  {
   "cell_type": "markdown",
   "id": "798bcc50-80d3-4327-858e-940e0274882c",
   "metadata": {},
   "source": [
    "#### Aggregation`\n",
    "Aggregation = performing same operation on a number of things"
   ]
  },
  {
   "cell_type": "code",
   "execution_count": 113,
   "id": "552a5565-bbea-4541-8d3a-b2d1a984f54d",
   "metadata": {},
   "outputs": [
    {
     "data": {
      "text/plain": [
       "array([1, 2, 3])"
      ]
     },
     "execution_count": 113,
     "metadata": {},
     "output_type": "execute_result"
    }
   ],
   "source": [
    "a1"
   ]
  },
  {
   "cell_type": "code",
   "execution_count": 114,
   "id": "b6f7de5d-6210-4f57-a7ab-1c462761d899",
   "metadata": {},
   "outputs": [
    {
     "data": {
      "text/plain": [
       "6"
      ]
     },
     "execution_count": 114,
     "metadata": {},
     "output_type": "execute_result"
    }
   ],
   "source": [
    "sum(a1)"
   ]
  },
  {
   "cell_type": "code",
   "execution_count": 115,
   "id": "cc1020ee-c8cc-426a-9ce4-5e90d1821f17",
   "metadata": {},
   "outputs": [
    {
     "data": {
      "text/plain": [
       "6"
      ]
     },
     "execution_count": 115,
     "metadata": {},
     "output_type": "execute_result"
    }
   ],
   "source": [
    "np.sum(a1)"
   ]
  },
  {
   "cell_type": "markdown",
   "id": "8df268a5-abc2-40e9-8a04-ec834ed1285a",
   "metadata": {},
   "source": [
    "Use Python's methos on Python's datatypes and Numpy's methods on Numpy's DataFrame"
   ]
  },
  {
   "cell_type": "code",
   "execution_count": 117,
   "id": "fd864489-75e9-4401-bb16-ed5f29533439",
   "metadata": {},
   "outputs": [
    {
     "data": {
      "text/plain": [
       "100000"
      ]
     },
     "execution_count": 117,
     "metadata": {},
     "output_type": "execute_result"
    }
   ],
   "source": [
    "massive_array = np.random.random(100000)\n",
    "massive_array.size"
   ]
  },
  {
   "cell_type": "code",
   "execution_count": 119,
   "id": "a874ffb7-71ef-498d-ba51-23917a1ea983",
   "metadata": {},
   "outputs": [
    {
     "data": {
      "text/plain": [
       "array([0.54546031, 0.94828778, 0.66485564, 0.01562855, 0.28167567,\n",
       "       0.31081066, 0.02578022, 0.94456255, 0.05889192, 0.90244326])"
      ]
     },
     "execution_count": 119,
     "metadata": {},
     "output_type": "execute_result"
    }
   ],
   "source": [
    "massive_array[:10]"
   ]
  },
  {
   "cell_type": "code",
   "execution_count": 120,
   "id": "81c52d59-c003-4e3d-b082-4efa910755ab",
   "metadata": {},
   "outputs": [
    {
     "name": "stdout",
     "output_type": "stream",
     "text": [
      "9.94 ms ± 225 µs per loop (mean ± std. dev. of 7 runs, 100 loops each)\n",
      "37.8 µs ± 800 ns per loop (mean ± std. dev. of 7 runs, 10,000 loops each)\n"
     ]
    }
   ],
   "source": [
    "%timeit sum(massive_array) #Python's Sum\n",
    "%timeit np.sum(massive_array)"
   ]
  },
  {
   "cell_type": "markdown",
   "id": "c2347113-6bd5-41f5-90e7-71842761bc80",
   "metadata": {},
   "source": [
    "9.94 milliseconds = 9940 microseconds"
   ]
  },
  {
   "cell_type": "code",
   "execution_count": 121,
   "id": "2fc852fc-c1c4-4716-8ef1-ddedd893dcbd",
   "metadata": {},
   "outputs": [
    {
     "data": {
      "text/plain": [
       "268.64864864864865"
      ]
     },
     "execution_count": 121,
     "metadata": {},
     "output_type": "execute_result"
    }
   ],
   "source": [
    "9940/37"
   ]
  },
  {
   "cell_type": "markdown",
   "id": "d0e80382-1c7f-41d0-ae6a-c129d1a81890",
   "metadata": {},
   "source": [
    "So numpy.sum() is 270 times more faster than python sum()"
   ]
  },
  {
   "cell_type": "code",
   "execution_count": 122,
   "id": "0a5c3382-aa7f-4d72-aa9c-e72d408333ae",
   "metadata": {},
   "outputs": [
    {
     "data": {
      "text/plain": [
       "array([[1.5, 4.5, 7.5],\n",
       "       [1. , 3. , 6. ]])"
      ]
     },
     "execution_count": 122,
     "metadata": {},
     "output_type": "execute_result"
    }
   ],
   "source": [
    "a2"
   ]
  },
  {
   "cell_type": "code",
   "execution_count": 123,
   "id": "4c3db30b-79e6-445b-8fc3-b470816fa1c0",
   "metadata": {},
   "outputs": [
    {
     "data": {
      "text/plain": [
       "3.9166666666666665"
      ]
     },
     "execution_count": 123,
     "metadata": {},
     "output_type": "execute_result"
    }
   ],
   "source": [
    "np.mean(a2)"
   ]
  },
  {
   "cell_type": "code",
   "execution_count": 124,
   "id": "9ad3e83e-8d46-4cfe-a125-aa9fc793140a",
   "metadata": {},
   "outputs": [
    {
     "data": {
      "text/plain": [
       "1.0"
      ]
     },
     "execution_count": 124,
     "metadata": {},
     "output_type": "execute_result"
    }
   ],
   "source": [
    "np.min(a2)"
   ]
  },
  {
   "cell_type": "code",
   "execution_count": 125,
   "id": "e5e1b9f3-c37e-4e96-9bdc-4433da1e913f",
   "metadata": {},
   "outputs": [
    {
     "data": {
      "text/plain": [
       "7.5"
      ]
     },
     "execution_count": 125,
     "metadata": {},
     "output_type": "execute_result"
    }
   ],
   "source": [
    "np.max(a2)"
   ]
  },
  {
   "cell_type": "code",
   "execution_count": 128,
   "id": "b63a2bd4-68a6-4bcf-837e-139f4e740db2",
   "metadata": {},
   "outputs": [
    {
     "data": {
      "text/plain": [
       "2.33482095435365"
      ]
     },
     "execution_count": 128,
     "metadata": {},
     "output_type": "execute_result"
    }
   ],
   "source": [
    "# Standard Deviation = a measure of how spread out a group of numbers is from their mean\n",
    "np.std(a2)"
   ]
  },
  {
   "cell_type": "code",
   "execution_count": 127,
   "id": "e6c22c33-2cd6-44dc-a0dd-7a676bca7dc9",
   "metadata": {},
   "outputs": [
    {
     "data": {
      "text/plain": [
       "5.451388888888888"
      ]
     },
     "execution_count": 127,
     "metadata": {},
     "output_type": "execute_result"
    }
   ],
   "source": [
    "# Variance = measure of the average degree to which each number is different from the mean\n",
    "# Higher Variance = wider range of number\n",
    "# Lower variance = lower range of number\n",
    "np.var(a2)"
   ]
  },
  {
   "cell_type": "code",
   "execution_count": 129,
   "id": "6b1a0e1c-8402-43a5-a620-993196ac0ead",
   "metadata": {},
   "outputs": [
    {
     "data": {
      "text/plain": [
       "2.33482095435365"
      ]
     },
     "execution_count": 129,
     "metadata": {},
     "output_type": "execute_result"
    }
   ],
   "source": [
    "# Standard Deviation = squareroot of Variance\n",
    "np.sqrt(np.var(a2))"
   ]
  },
  {
   "cell_type": "markdown",
   "id": "3796519a-1b37-47d5-8404-a8a3e95d5dad",
   "metadata": {},
   "source": [
    "#### Demo of standard deviation and Variance in seperate notebook"
   ]
  },
  {
   "cell_type": "markdown",
   "id": "f16e8b94-a29e-4478-b07c-ac952530ef1b",
   "metadata": {},
   "source": [
    "## Reshape and Transpose"
   ]
  },
  {
   "cell_type": "code",
   "execution_count": 130,
   "id": "8b8d9fea-bf2e-4fe0-8182-1d3ed051edb5",
   "metadata": {},
   "outputs": [
    {
     "data": {
      "text/plain": [
       "array([[1.5, 4.5, 7.5],\n",
       "       [1. , 3. , 6. ]])"
      ]
     },
     "execution_count": 130,
     "metadata": {},
     "output_type": "execute_result"
    }
   ],
   "source": [
    "# Why change shape?\n",
    "a2"
   ]
  },
  {
   "cell_type": "code",
   "execution_count": 131,
   "id": "fc39037a-b460-4cdc-8084-a394fdaab723",
   "metadata": {},
   "outputs": [
    {
     "data": {
      "text/plain": [
       "(2, 3)"
      ]
     },
     "execution_count": 131,
     "metadata": {},
     "output_type": "execute_result"
    }
   ],
   "source": [
    "a2.shape"
   ]
  },
  {
   "cell_type": "code",
   "execution_count": 132,
   "id": "8f128e33-e47f-4560-b5f0-8e9f49ba2d3f",
   "metadata": {},
   "outputs": [
    {
     "ename": "ValueError",
     "evalue": "operands could not be broadcast together with shapes (2,3) (2,3,3) ",
     "output_type": "error",
     "traceback": [
      "\u001b[1;31m---------------------------------------------------------------------------\u001b[0m",
      "\u001b[1;31mValueError\u001b[0m                                Traceback (most recent call last)",
      "Cell \u001b[1;32mIn[132], line 1\u001b[0m\n\u001b[1;32m----> 1\u001b[0m a2 \u001b[38;5;241m*\u001b[39m a3\n",
      "\u001b[1;31mValueError\u001b[0m: operands could not be broadcast together with shapes (2,3) (2,3,3) "
     ]
    }
   ],
   "source": [
    "a2 * a3"
   ]
  },
  {
   "cell_type": "code",
   "execution_count": 134,
   "id": "ef9a8e0f-2e0e-4ff9-bfec-be2272a32842",
   "metadata": {},
   "outputs": [
    {
     "data": {
      "text/plain": [
       "(array([[[ 1,  2,  3],\n",
       "         [ 4,  5,  6],\n",
       "         [ 7,  8,  9]],\n",
       " \n",
       "        [[10, 11, 12],\n",
       "         [13, 14, 15],\n",
       "         [16, 17, 18]]]),\n",
       " array([[1.5, 4.5, 7.5],\n",
       "        [1. , 3. , 6. ]]))"
      ]
     },
     "execution_count": 134,
     "metadata": {},
     "output_type": "execute_result"
    }
   ],
   "source": [
    "a3, a2"
   ]
  },
  {
   "cell_type": "code",
   "execution_count": 141,
   "id": "fbc41b6a-d4fd-4cfa-bbbb-56dcd2761f94",
   "metadata": {},
   "outputs": [],
   "source": [
    "a2_reshaped = a2.reshape(2,3,1)"
   ]
  },
  {
   "cell_type": "code",
   "execution_count": 142,
   "id": "9e60ba50-3310-421e-aaa2-2d9f908be66e",
   "metadata": {},
   "outputs": [
    {
     "data": {
      "text/plain": [
       "array([[[  1.5,   3. ,   4.5],\n",
       "        [ 18. ,  22.5,  27. ],\n",
       "        [ 52.5,  60. ,  67.5]],\n",
       "\n",
       "       [[ 10. ,  11. ,  12. ],\n",
       "        [ 39. ,  42. ,  45. ],\n",
       "        [ 96. , 102. , 108. ]]])"
      ]
     },
     "execution_count": 142,
     "metadata": {},
     "output_type": "execute_result"
    }
   ],
   "source": [
    "# Element Wise Product (Hadmard Product)\n",
    "a2_reshaped * a3"
   ]
  },
  {
   "cell_type": "code",
   "execution_count": 143,
   "id": "bc911d14-a383-440d-9de4-4ad95e432fae",
   "metadata": {},
   "outputs": [
    {
     "data": {
      "text/plain": [
       "(array([[1, 0],\n",
       "        [1, 0],\n",
       "        [3, 6],\n",
       "        [2, 9],\n",
       "        [1, 6]]),\n",
       " array([[7, 1],\n",
       "        [7, 3],\n",
       "        [7, 1],\n",
       "        [5, 8],\n",
       "        [5, 7]]))"
      ]
     },
     "execution_count": 143,
     "metadata": {},
     "output_type": "execute_result"
    }
   ],
   "source": [
    "# Dot Product\n",
    "mat1 = np.random.randint(10, size=(5,2))\n",
    "mat2 = np.random.randint(10, size=(5,2))\n",
    "mat1, mat2"
   ]
  },
  {
   "cell_type": "code",
   "execution_count": 145,
   "id": "6614905a-a1d8-4919-bf0a-305b849ec5b8",
   "metadata": {},
   "outputs": [
    {
     "ename": "ValueError",
     "evalue": "shapes (5,2) and (5,2) not aligned: 2 (dim 1) != 5 (dim 0)",
     "output_type": "error",
     "traceback": [
      "\u001b[1;31m---------------------------------------------------------------------------\u001b[0m",
      "\u001b[1;31mValueError\u001b[0m                                Traceback (most recent call last)",
      "Cell \u001b[1;32mIn[145], line 2\u001b[0m\n\u001b[0;32m      1\u001b[0m \u001b[38;5;66;03m# Dot Product\u001b[39;00m\n\u001b[1;32m----> 2\u001b[0m np\u001b[38;5;241m.\u001b[39mdot(mat1, mat2)\n",
      "\u001b[1;31mValueError\u001b[0m: shapes (5,2) and (5,2) not aligned: 2 (dim 1) != 5 (dim 0)"
     ]
    }
   ],
   "source": [
    "# Dot Product\n",
    "np.dot(mat1, mat2)"
   ]
  },
  {
   "cell_type": "markdown",
   "id": "0dc6668a-5a0a-427b-abe9-97243044ef9e",
   "metadata": {},
   "source": [
    "the columns of 1st mat must match rows of 2nd mat"
   ]
  },
  {
   "cell_type": "code",
   "execution_count": 146,
   "id": "543acaf2-2e71-42c7-b94e-7ea37e8e1590",
   "metadata": {},
   "outputs": [
    {
     "data": {
      "text/plain": [
       "array([[7, 7, 7, 5, 5],\n",
       "       [1, 3, 1, 8, 7]])"
      ]
     },
     "execution_count": 146,
     "metadata": {},
     "output_type": "execute_result"
    }
   ],
   "source": [
    "# take transpose\n",
    "mat2.T"
   ]
  },
  {
   "cell_type": "code",
   "execution_count": 147,
   "id": "8639de0c-ff98-4a54-b68d-3db859caa98d",
   "metadata": {},
   "outputs": [
    {
     "data": {
      "text/plain": [
       "((5, 2), (2, 5))"
      ]
     },
     "execution_count": 147,
     "metadata": {},
     "output_type": "execute_result"
    }
   ],
   "source": [
    "mat1.shape, mat2.T.shape"
   ]
  },
  {
   "cell_type": "code",
   "execution_count": 148,
   "id": "62e158d4-0984-46ff-a11e-a59ffae9f645",
   "metadata": {},
   "outputs": [
    {
     "data": {
      "text/plain": [
       "array([[ 7,  7,  7,  5,  5],\n",
       "       [ 7,  7,  7,  5,  5],\n",
       "       [27, 39, 27, 63, 57],\n",
       "       [23, 41, 23, 82, 73],\n",
       "       [13, 25, 13, 53, 47]])"
      ]
     },
     "execution_count": 148,
     "metadata": {},
     "output_type": "execute_result"
    }
   ],
   "source": [
    "np.dot(mat1, mat2.T)"
   ]
  },
  {
   "cell_type": "code",
   "execution_count": 150,
   "id": "0673b0d8-c76c-475a-87b5-ee77bfaab054",
   "metadata": {},
   "outputs": [
    {
     "data": {
      "text/plain": [
       "(array([[1, 0],\n",
       "        [1, 0],\n",
       "        [3, 6],\n",
       "        [2, 9],\n",
       "        [1, 6]]),\n",
       " array([[7, 1],\n",
       "        [7, 3],\n",
       "        [7, 1],\n",
       "        [5, 8],\n",
       "        [5, 7]]))"
      ]
     },
     "execution_count": 150,
     "metadata": {},
     "output_type": "execute_result"
    }
   ],
   "source": [
    "mat1, mat2"
   ]
  },
  {
   "cell_type": "code",
   "execution_count": 152,
   "id": "7988577b-8322-4309-beb9-aa85829020e4",
   "metadata": {},
   "outputs": [
    {
     "ename": "ValueError",
     "evalue": "shapes (5,2) and (5,2) not aligned: 2 (dim 1) != 5 (dim 0)",
     "output_type": "error",
     "traceback": [
      "\u001b[1;31m---------------------------------------------------------------------------\u001b[0m",
      "\u001b[1;31mValueError\u001b[0m                                Traceback (most recent call last)",
      "Cell \u001b[1;32mIn[152], line 1\u001b[0m\n\u001b[1;32m----> 1\u001b[0m np\u001b[38;5;241m.\u001b[39mdot(mat2, mat1)\n",
      "\u001b[1;31mValueError\u001b[0m: shapes (5,2) and (5,2) not aligned: 2 (dim 1) != 5 (dim 0)"
     ]
    }
   ],
   "source": [
    "np.dot(mat2, mat1)"
   ]
  },
  {
   "cell_type": "code",
   "execution_count": 153,
   "id": "e65c4451-eb8a-4413-9618-b8754b30c73d",
   "metadata": {},
   "outputs": [
    {
     "data": {
      "text/plain": [
       "array([[ 50, 117],\n",
       "       [ 30, 120]])"
      ]
     },
     "execution_count": 153,
     "metadata": {},
     "output_type": "execute_result"
    }
   ],
   "source": [
    "np.dot(mat2.T, mat1)"
   ]
  },
  {
   "cell_type": "markdown",
   "id": "926a0ddf-8601-4270-b190-d632b827bc21",
   "metadata": {},
   "source": [
    "### the dot products are not same when order of dot multiplication is different"
   ]
  },
  {
   "cell_type": "markdown",
   "id": "509301a2-d9a9-4942-9eb9-18f22d5feb01",
   "metadata": {},
   "source": [
    "## Dot Product Example (Butter sales)"
   ]
  },
  {
   "cell_type": "code",
   "execution_count": 154,
   "id": "37b6071f-72ac-4125-8bf6-2ea33b58edae",
   "metadata": {},
   "outputs": [
    {
     "data": {
      "text/plain": [
       "array([[12, 15,  0],\n",
       "       [ 3,  3,  7],\n",
       "       [ 9, 19, 18],\n",
       "       [ 4,  6, 12],\n",
       "       [ 1,  6,  7]])"
      ]
     },
     "execution_count": 154,
     "metadata": {},
     "output_type": "execute_result"
    }
   ],
   "source": [
    "np.random.seed(0)\n",
    "#Number of Jars sold\n",
    "sales_amounts = np.random.randint(20, size=(5,3))\n",
    "sales_amounts"
   ]
  },
  {
   "cell_type": "code",
   "execution_count": 156,
   "id": "8090c062-47e9-4ef9-9cf7-bc277fedffb1",
   "metadata": {},
   "outputs": [],
   "source": [
    "# Create weekly_sales DataFrame\n",
    "weekly_sales = pd.DataFrame(sales_amounts, \n",
    "                            index= [\"Mons\", \"Tues\", \"Weds\", \"Thurs\", \"Fri\"],\n",
    "                            columns= [\"Almond Butter\", \"Cashew Butter\", \"Peanut Butter\"])"
   ]
  },
  {
   "cell_type": "code",
   "execution_count": 157,
   "id": "37d93a56-64a0-4d1f-acb8-d13b17cb5614",
   "metadata": {},
   "outputs": [
    {
     "data": {
      "text/html": [
       "<div>\n",
       "<style scoped>\n",
       "    .dataframe tbody tr th:only-of-type {\n",
       "        vertical-align: middle;\n",
       "    }\n",
       "\n",
       "    .dataframe tbody tr th {\n",
       "        vertical-align: top;\n",
       "    }\n",
       "\n",
       "    .dataframe thead th {\n",
       "        text-align: right;\n",
       "    }\n",
       "</style>\n",
       "<table border=\"1\" class=\"dataframe\">\n",
       "  <thead>\n",
       "    <tr style=\"text-align: right;\">\n",
       "      <th></th>\n",
       "      <th>Almond Butter</th>\n",
       "      <th>Cashew Butter</th>\n",
       "      <th>Peanut Butter</th>\n",
       "    </tr>\n",
       "  </thead>\n",
       "  <tbody>\n",
       "    <tr>\n",
       "      <th>Mons</th>\n",
       "      <td>12</td>\n",
       "      <td>15</td>\n",
       "      <td>0</td>\n",
       "    </tr>\n",
       "    <tr>\n",
       "      <th>Tues</th>\n",
       "      <td>3</td>\n",
       "      <td>3</td>\n",
       "      <td>7</td>\n",
       "    </tr>\n",
       "    <tr>\n",
       "      <th>Weds</th>\n",
       "      <td>9</td>\n",
       "      <td>19</td>\n",
       "      <td>18</td>\n",
       "    </tr>\n",
       "    <tr>\n",
       "      <th>Thurs</th>\n",
       "      <td>4</td>\n",
       "      <td>6</td>\n",
       "      <td>12</td>\n",
       "    </tr>\n",
       "    <tr>\n",
       "      <th>Fri</th>\n",
       "      <td>1</td>\n",
       "      <td>6</td>\n",
       "      <td>7</td>\n",
       "    </tr>\n",
       "  </tbody>\n",
       "</table>\n",
       "</div>"
      ],
      "text/plain": [
       "       Almond Butter  Cashew Butter  Peanut Butter\n",
       "Mons              12             15              0\n",
       "Tues               3              3              7\n",
       "Weds               9             19             18\n",
       "Thurs              4              6             12\n",
       "Fri                1              6              7"
      ]
     },
     "execution_count": 157,
     "metadata": {},
     "output_type": "execute_result"
    }
   ],
   "source": [
    "weekly_sales"
   ]
  },
  {
   "cell_type": "code",
   "execution_count": 158,
   "id": "8912b153-d8c3-4076-82e5-2901ad443c33",
   "metadata": {},
   "outputs": [
    {
     "data": {
      "text/plain": [
       "array([10, 12,  8])"
      ]
     },
     "execution_count": 158,
     "metadata": {},
     "output_type": "execute_result"
    }
   ],
   "source": [
    "# Create Prices array\n",
    "prices = np.array([10, 12, 8])\n",
    "prices"
   ]
  },
  {
   "cell_type": "code",
   "execution_count": 160,
   "id": "e095cdba-750a-415a-9bde-245ebaa74f5b",
   "metadata": {},
   "outputs": [
    {
     "ename": "ValueError",
     "evalue": "Shape of passed values is (3, 1), indices imply (1, 3)",
     "output_type": "error",
     "traceback": [
      "\u001b[1;31m---------------------------------------------------------------------------\u001b[0m",
      "\u001b[1;31mValueError\u001b[0m                                Traceback (most recent call last)",
      "Cell \u001b[1;32mIn[160], line 2\u001b[0m\n\u001b[0;32m      1\u001b[0m \u001b[38;5;66;03m# Create butter_prices DF\u001b[39;00m\n\u001b[1;32m----> 2\u001b[0m butter_prices \u001b[38;5;241m=\u001b[39m pd\u001b[38;5;241m.\u001b[39mDataFrame(prices,\n\u001b[0;32m      3\u001b[0m                              index\u001b[38;5;241m=\u001b[39m[\u001b[38;5;124m\"\u001b[39m\u001b[38;5;124mPrice\u001b[39m\u001b[38;5;124m\"\u001b[39m],\n\u001b[0;32m      4\u001b[0m                              columns\u001b[38;5;241m=\u001b[39m[\u001b[38;5;124m\"\u001b[39m\u001b[38;5;124mAlmond Butter\u001b[39m\u001b[38;5;124m\"\u001b[39m, \u001b[38;5;124m\"\u001b[39m\u001b[38;5;124mCashew Butter\u001b[39m\u001b[38;5;124m\"\u001b[39m, \u001b[38;5;124m\"\u001b[39m\u001b[38;5;124mPeanut Butter\u001b[39m\u001b[38;5;124m\"\u001b[39m])\n",
      "File \u001b[1;32m~\\anaconda3\\Lib\\site-packages\\pandas\\core\\frame.py:782\u001b[0m, in \u001b[0;36mDataFrame.__init__\u001b[1;34m(self, data, index, columns, dtype, copy)\u001b[0m\n\u001b[0;32m    771\u001b[0m         mgr \u001b[38;5;241m=\u001b[39m dict_to_mgr(\n\u001b[0;32m    772\u001b[0m             \u001b[38;5;66;03m# error: Item \"ndarray\" of \"Union[ndarray, Series, Index]\" has no\u001b[39;00m\n\u001b[0;32m    773\u001b[0m             \u001b[38;5;66;03m# attribute \"name\"\u001b[39;00m\n\u001b[1;32m   (...)\u001b[0m\n\u001b[0;32m    779\u001b[0m             copy\u001b[38;5;241m=\u001b[39m_copy,\n\u001b[0;32m    780\u001b[0m         )\n\u001b[0;32m    781\u001b[0m     \u001b[38;5;28;01melse\u001b[39;00m:\n\u001b[1;32m--> 782\u001b[0m         mgr \u001b[38;5;241m=\u001b[39m ndarray_to_mgr(\n\u001b[0;32m    783\u001b[0m             data,\n\u001b[0;32m    784\u001b[0m             index,\n\u001b[0;32m    785\u001b[0m             columns,\n\u001b[0;32m    786\u001b[0m             dtype\u001b[38;5;241m=\u001b[39mdtype,\n\u001b[0;32m    787\u001b[0m             copy\u001b[38;5;241m=\u001b[39mcopy,\n\u001b[0;32m    788\u001b[0m             typ\u001b[38;5;241m=\u001b[39mmanager,\n\u001b[0;32m    789\u001b[0m         )\n\u001b[0;32m    791\u001b[0m \u001b[38;5;66;03m# For data is list-like, or Iterable (will consume into list)\u001b[39;00m\n\u001b[0;32m    792\u001b[0m \u001b[38;5;28;01melif\u001b[39;00m is_list_like(data):\n",
      "File \u001b[1;32m~\\anaconda3\\Lib\\site-packages\\pandas\\core\\internals\\construction.py:336\u001b[0m, in \u001b[0;36mndarray_to_mgr\u001b[1;34m(values, index, columns, dtype, copy, typ)\u001b[0m\n\u001b[0;32m    331\u001b[0m \u001b[38;5;66;03m# _prep_ndarraylike ensures that values.ndim == 2 at this point\u001b[39;00m\n\u001b[0;32m    332\u001b[0m index, columns \u001b[38;5;241m=\u001b[39m _get_axes(\n\u001b[0;32m    333\u001b[0m     values\u001b[38;5;241m.\u001b[39mshape[\u001b[38;5;241m0\u001b[39m], values\u001b[38;5;241m.\u001b[39mshape[\u001b[38;5;241m1\u001b[39m], index\u001b[38;5;241m=\u001b[39mindex, columns\u001b[38;5;241m=\u001b[39mcolumns\n\u001b[0;32m    334\u001b[0m )\n\u001b[1;32m--> 336\u001b[0m _check_values_indices_shape_match(values, index, columns)\n\u001b[0;32m    338\u001b[0m \u001b[38;5;28;01mif\u001b[39;00m typ \u001b[38;5;241m==\u001b[39m \u001b[38;5;124m\"\u001b[39m\u001b[38;5;124marray\u001b[39m\u001b[38;5;124m\"\u001b[39m:\n\u001b[0;32m    339\u001b[0m     \u001b[38;5;28;01mif\u001b[39;00m \u001b[38;5;28missubclass\u001b[39m(values\u001b[38;5;241m.\u001b[39mdtype\u001b[38;5;241m.\u001b[39mtype, \u001b[38;5;28mstr\u001b[39m):\n",
      "File \u001b[1;32m~\\anaconda3\\Lib\\site-packages\\pandas\\core\\internals\\construction.py:420\u001b[0m, in \u001b[0;36m_check_values_indices_shape_match\u001b[1;34m(values, index, columns)\u001b[0m\n\u001b[0;32m    418\u001b[0m passed \u001b[38;5;241m=\u001b[39m values\u001b[38;5;241m.\u001b[39mshape\n\u001b[0;32m    419\u001b[0m implied \u001b[38;5;241m=\u001b[39m (\u001b[38;5;28mlen\u001b[39m(index), \u001b[38;5;28mlen\u001b[39m(columns))\n\u001b[1;32m--> 420\u001b[0m \u001b[38;5;28;01mraise\u001b[39;00m \u001b[38;5;167;01mValueError\u001b[39;00m(\u001b[38;5;124mf\u001b[39m\u001b[38;5;124m\"\u001b[39m\u001b[38;5;124mShape of passed values is \u001b[39m\u001b[38;5;132;01m{\u001b[39;00mpassed\u001b[38;5;132;01m}\u001b[39;00m\u001b[38;5;124m, indices imply \u001b[39m\u001b[38;5;132;01m{\u001b[39;00mimplied\u001b[38;5;132;01m}\u001b[39;00m\u001b[38;5;124m\"\u001b[39m)\n",
      "\u001b[1;31mValueError\u001b[0m: Shape of passed values is (3, 1), indices imply (1, 3)"
     ]
    }
   ],
   "source": [
    "# Create butter_prices DF\n",
    "butter_prices = pd.DataFrame(prices,\n",
    "                             index=[\"Price\"],\n",
    "                             columns=[\"Almond Butter\", \"Cashew Butter\", \"Peanut Butter\"])"
   ]
  },
  {
   "cell_type": "code",
   "execution_count": 161,
   "id": "e5e463c1-ed41-44dc-a2ae-ecb7535aafd7",
   "metadata": {},
   "outputs": [
    {
     "data": {
      "text/plain": [
       "(3,)"
      ]
     },
     "execution_count": 161,
     "metadata": {},
     "output_type": "execute_result"
    }
   ],
   "source": [
    "prices.shape"
   ]
  },
  {
   "cell_type": "markdown",
   "id": "c700f414-edc5-428e-9d86-ac2e05f2213b",
   "metadata": {},
   "source": [
    "the prices above represents 3 rows"
   ]
  },
  {
   "cell_type": "code",
   "execution_count": 165,
   "id": "181e1978-b142-4206-8c4d-3635ed6b5f1e",
   "metadata": {},
   "outputs": [],
   "source": [
    "prices = prices.reshape((1,3))\n",
    "# what pandas expects:\n",
    "# Create butter_prices DF\n",
    "butter_prices = pd.DataFrame(prices, # convert into expected 1 row and 3 columns\n",
    "                             index=[\"Price\"],# 1 Row\n",
    "                             columns=[\"Almond Butter\", \"Cashew Butter\", \"Peanut Butter\"]) # 3 Columns"
   ]
  },
  {
   "cell_type": "code",
   "execution_count": 166,
   "id": "477ceeb4-0881-40c5-a26c-e8d5420bfb68",
   "metadata": {},
   "outputs": [
    {
     "data": {
      "text/html": [
       "<div>\n",
       "<style scoped>\n",
       "    .dataframe tbody tr th:only-of-type {\n",
       "        vertical-align: middle;\n",
       "    }\n",
       "\n",
       "    .dataframe tbody tr th {\n",
       "        vertical-align: top;\n",
       "    }\n",
       "\n",
       "    .dataframe thead th {\n",
       "        text-align: right;\n",
       "    }\n",
       "</style>\n",
       "<table border=\"1\" class=\"dataframe\">\n",
       "  <thead>\n",
       "    <tr style=\"text-align: right;\">\n",
       "      <th></th>\n",
       "      <th>Almond Butter</th>\n",
       "      <th>Cashew Butter</th>\n",
       "      <th>Peanut Butter</th>\n",
       "    </tr>\n",
       "  </thead>\n",
       "  <tbody>\n",
       "    <tr>\n",
       "      <th>Price</th>\n",
       "      <td>10</td>\n",
       "      <td>12</td>\n",
       "      <td>8</td>\n",
       "    </tr>\n",
       "  </tbody>\n",
       "</table>\n",
       "</div>"
      ],
      "text/plain": [
       "       Almond Butter  Cashew Butter  Peanut Butter\n",
       "Price             10             12              8"
      ]
     },
     "execution_count": 166,
     "metadata": {},
     "output_type": "execute_result"
    }
   ],
   "source": [
    "butter_prices"
   ]
  },
  {
   "cell_type": "code",
   "execution_count": 168,
   "id": "0c12de49-f697-4fd3-bba1-62f21ed62cae",
   "metadata": {},
   "outputs": [
    {
     "data": {
      "text/html": [
       "<div>\n",
       "<style scoped>\n",
       "    .dataframe tbody tr th:only-of-type {\n",
       "        vertical-align: middle;\n",
       "    }\n",
       "\n",
       "    .dataframe tbody tr th {\n",
       "        vertical-align: top;\n",
       "    }\n",
       "\n",
       "    .dataframe thead th {\n",
       "        text-align: right;\n",
       "    }\n",
       "</style>\n",
       "<table border=\"1\" class=\"dataframe\">\n",
       "  <thead>\n",
       "    <tr style=\"text-align: right;\">\n",
       "      <th></th>\n",
       "      <th>Almond Butter</th>\n",
       "      <th>Cashew Butter</th>\n",
       "      <th>Peanut Butter</th>\n",
       "    </tr>\n",
       "  </thead>\n",
       "  <tbody>\n",
       "    <tr>\n",
       "      <th>Mons</th>\n",
       "      <td>12</td>\n",
       "      <td>15</td>\n",
       "      <td>0</td>\n",
       "    </tr>\n",
       "    <tr>\n",
       "      <th>Tues</th>\n",
       "      <td>3</td>\n",
       "      <td>3</td>\n",
       "      <td>7</td>\n",
       "    </tr>\n",
       "    <tr>\n",
       "      <th>Weds</th>\n",
       "      <td>9</td>\n",
       "      <td>19</td>\n",
       "      <td>18</td>\n",
       "    </tr>\n",
       "    <tr>\n",
       "      <th>Thurs</th>\n",
       "      <td>4</td>\n",
       "      <td>6</td>\n",
       "      <td>12</td>\n",
       "    </tr>\n",
       "    <tr>\n",
       "      <th>Fri</th>\n",
       "      <td>1</td>\n",
       "      <td>6</td>\n",
       "      <td>7</td>\n",
       "    </tr>\n",
       "  </tbody>\n",
       "</table>\n",
       "</div>"
      ],
      "text/plain": [
       "       Almond Butter  Cashew Butter  Peanut Butter\n",
       "Mons              12             15              0\n",
       "Tues               3              3              7\n",
       "Weds               9             19             18\n",
       "Thurs              4              6             12\n",
       "Fri                1              6              7"
      ]
     },
     "execution_count": 168,
     "metadata": {},
     "output_type": "execute_result"
    }
   ],
   "source": [
    "weekly_sales"
   ]
  },
  {
   "cell_type": "code",
   "execution_count": 170,
   "id": "0fefeedb-6167-449d-97ec-6a37726adb52",
   "metadata": {},
   "outputs": [],
   "source": [
    "total_sales = prices.dot(sales_amounts.T)"
   ]
  },
  {
   "cell_type": "code",
   "execution_count": 171,
   "id": "d0627591-8dec-492e-b097-67bf08a82ece",
   "metadata": {},
   "outputs": [
    {
     "data": {
      "text/plain": [
       "array([[300, 122, 462, 208, 138]])"
      ]
     },
     "execution_count": 171,
     "metadata": {},
     "output_type": "execute_result"
    }
   ],
   "source": [
    "total_sales"
   ]
  },
  {
   "cell_type": "code",
   "execution_count": 173,
   "id": "34a5d915-045e-4ce0-bcbd-f31dd2818494",
   "metadata": {},
   "outputs": [
    {
     "data": {
      "text/html": [
       "<div>\n",
       "<style scoped>\n",
       "    .dataframe tbody tr th:only-of-type {\n",
       "        vertical-align: middle;\n",
       "    }\n",
       "\n",
       "    .dataframe tbody tr th {\n",
       "        vertical-align: top;\n",
       "    }\n",
       "\n",
       "    .dataframe thead th {\n",
       "        text-align: right;\n",
       "    }\n",
       "</style>\n",
       "<table border=\"1\" class=\"dataframe\">\n",
       "  <thead>\n",
       "    <tr style=\"text-align: right;\">\n",
       "      <th></th>\n",
       "      <th>Almond Butter</th>\n",
       "      <th>Cashew Butter</th>\n",
       "      <th>Peanut Butter</th>\n",
       "    </tr>\n",
       "  </thead>\n",
       "  <tbody>\n",
       "    <tr>\n",
       "      <th>Mons</th>\n",
       "      <td>12</td>\n",
       "      <td>15</td>\n",
       "      <td>0</td>\n",
       "    </tr>\n",
       "    <tr>\n",
       "      <th>Tues</th>\n",
       "      <td>3</td>\n",
       "      <td>3</td>\n",
       "      <td>7</td>\n",
       "    </tr>\n",
       "    <tr>\n",
       "      <th>Weds</th>\n",
       "      <td>9</td>\n",
       "      <td>19</td>\n",
       "      <td>18</td>\n",
       "    </tr>\n",
       "    <tr>\n",
       "      <th>Thurs</th>\n",
       "      <td>4</td>\n",
       "      <td>6</td>\n",
       "      <td>12</td>\n",
       "    </tr>\n",
       "    <tr>\n",
       "      <th>Fri</th>\n",
       "      <td>1</td>\n",
       "      <td>6</td>\n",
       "      <td>7</td>\n",
       "    </tr>\n",
       "  </tbody>\n",
       "</table>\n",
       "</div>"
      ],
      "text/plain": [
       "       Almond Butter  Cashew Butter  Peanut Butter\n",
       "Mons              12             15              0\n",
       "Tues               3              3              7\n",
       "Weds               9             19             18\n",
       "Thurs              4              6             12\n",
       "Fri                1              6              7"
      ]
     },
     "execution_count": 173,
     "metadata": {},
     "output_type": "execute_result"
    }
   ],
   "source": [
    "weekly_sales"
   ]
  },
  {
   "cell_type": "code",
   "execution_count": 174,
   "id": "e07d9c9e-47d3-4999-9182-de0afb4d43ab",
   "metadata": {},
   "outputs": [
    {
     "data": {
      "text/html": [
       "<div>\n",
       "<style scoped>\n",
       "    .dataframe tbody tr th:only-of-type {\n",
       "        vertical-align: middle;\n",
       "    }\n",
       "\n",
       "    .dataframe tbody tr th {\n",
       "        vertical-align: top;\n",
       "    }\n",
       "\n",
       "    .dataframe thead th {\n",
       "        text-align: right;\n",
       "    }\n",
       "</style>\n",
       "<table border=\"1\" class=\"dataframe\">\n",
       "  <thead>\n",
       "    <tr style=\"text-align: right;\">\n",
       "      <th></th>\n",
       "      <th>Almond Butter</th>\n",
       "      <th>Cashew Butter</th>\n",
       "      <th>Peanut Butter</th>\n",
       "    </tr>\n",
       "  </thead>\n",
       "  <tbody>\n",
       "    <tr>\n",
       "      <th>Price</th>\n",
       "      <td>10</td>\n",
       "      <td>12</td>\n",
       "      <td>8</td>\n",
       "    </tr>\n",
       "  </tbody>\n",
       "</table>\n",
       "</div>"
      ],
      "text/plain": [
       "       Almond Butter  Cashew Butter  Peanut Butter\n",
       "Price             10             12              8"
      ]
     },
     "execution_count": 174,
     "metadata": {},
     "output_type": "execute_result"
    }
   ],
   "source": [
    "butter_prices"
   ]
  },
  {
   "cell_type": "code",
   "execution_count": 175,
   "id": "4f2ae972-a8c7-44f1-92b7-0d97fb15934a",
   "metadata": {},
   "outputs": [
    {
     "data": {
      "text/plain": [
       "((5, 3), (1, 3))"
      ]
     },
     "execution_count": 175,
     "metadata": {},
     "output_type": "execute_result"
    }
   ],
   "source": [
    "weekly_sales.shape, butter_prices.shape"
   ]
  },
  {
   "cell_type": "code",
   "execution_count": 177,
   "id": "02651e17-39ab-4144-8039-b2cb86330599",
   "metadata": {},
   "outputs": [],
   "source": [
    "weekly_sales[\"Total ($)\"] = weekly_sales.dot(butter_prices.T)"
   ]
  },
  {
   "cell_type": "code",
   "execution_count": 178,
   "id": "a1f40d36-19d3-46b3-be20-b2d5df0c235c",
   "metadata": {},
   "outputs": [
    {
     "data": {
      "text/html": [
       "<div>\n",
       "<style scoped>\n",
       "    .dataframe tbody tr th:only-of-type {\n",
       "        vertical-align: middle;\n",
       "    }\n",
       "\n",
       "    .dataframe tbody tr th {\n",
       "        vertical-align: top;\n",
       "    }\n",
       "\n",
       "    .dataframe thead th {\n",
       "        text-align: right;\n",
       "    }\n",
       "</style>\n",
       "<table border=\"1\" class=\"dataframe\">\n",
       "  <thead>\n",
       "    <tr style=\"text-align: right;\">\n",
       "      <th></th>\n",
       "      <th>Almond Butter</th>\n",
       "      <th>Cashew Butter</th>\n",
       "      <th>Peanut Butter</th>\n",
       "      <th>Total ($)</th>\n",
       "    </tr>\n",
       "  </thead>\n",
       "  <tbody>\n",
       "    <tr>\n",
       "      <th>Mons</th>\n",
       "      <td>12</td>\n",
       "      <td>15</td>\n",
       "      <td>0</td>\n",
       "      <td>300</td>\n",
       "    </tr>\n",
       "    <tr>\n",
       "      <th>Tues</th>\n",
       "      <td>3</td>\n",
       "      <td>3</td>\n",
       "      <td>7</td>\n",
       "      <td>122</td>\n",
       "    </tr>\n",
       "    <tr>\n",
       "      <th>Weds</th>\n",
       "      <td>9</td>\n",
       "      <td>19</td>\n",
       "      <td>18</td>\n",
       "      <td>462</td>\n",
       "    </tr>\n",
       "    <tr>\n",
       "      <th>Thurs</th>\n",
       "      <td>4</td>\n",
       "      <td>6</td>\n",
       "      <td>12</td>\n",
       "      <td>208</td>\n",
       "    </tr>\n",
       "    <tr>\n",
       "      <th>Fri</th>\n",
       "      <td>1</td>\n",
       "      <td>6</td>\n",
       "      <td>7</td>\n",
       "      <td>138</td>\n",
       "    </tr>\n",
       "  </tbody>\n",
       "</table>\n",
       "</div>"
      ],
      "text/plain": [
       "       Almond Butter  Cashew Butter  Peanut Butter  Total ($)\n",
       "Mons              12             15              0        300\n",
       "Tues               3              3              7        122\n",
       "Weds               9             19             18        462\n",
       "Thurs              4              6             12        208\n",
       "Fri                1              6              7        138"
      ]
     },
     "execution_count": 178,
     "metadata": {},
     "output_type": "execute_result"
    }
   ],
   "source": [
    "weekly_sales"
   ]
  },
  {
   "cell_type": "markdown",
   "id": "0307a8f9-391f-4153-b4e7-9607a8bdef92",
   "metadata": {},
   "source": [
    "### If we took dot product like butter_prices.dot(weekly_sales.T) as the 'Total ($)' column, then we will get shape error when adding column to weekly sales DataFrame"
   ]
  },
  {
   "cell_type": "markdown",
   "id": "b9d578f6-8b96-4edb-8483-ac31313e1219",
   "metadata": {},
   "source": [
    "## Comparison Operators"
   ]
  },
  {
   "cell_type": "code",
   "execution_count": 179,
   "id": "83a58242-02ed-4d34-9c2c-3de6427ff0a1",
   "metadata": {},
   "outputs": [
    {
     "data": {
      "text/plain": [
       "array([1, 2, 3])"
      ]
     },
     "execution_count": 179,
     "metadata": {},
     "output_type": "execute_result"
    }
   ],
   "source": [
    "a1"
   ]
  },
  {
   "cell_type": "code",
   "execution_count": 180,
   "id": "3fa0e132-eb25-4504-95f3-220b236c201b",
   "metadata": {},
   "outputs": [
    {
     "data": {
      "text/plain": [
       "array([[1.5, 4.5, 7.5],\n",
       "       [1. , 3. , 6. ]])"
      ]
     },
     "execution_count": 180,
     "metadata": {},
     "output_type": "execute_result"
    }
   ],
   "source": [
    "a2"
   ]
  },
  {
   "cell_type": "code",
   "execution_count": 181,
   "id": "6d888d05-dc16-4eae-a850-380509a9d521",
   "metadata": {},
   "outputs": [
    {
     "data": {
      "text/plain": [
       "array([[False, False, False],\n",
       "       [False, False, False]])"
      ]
     },
     "execution_count": 181,
     "metadata": {},
     "output_type": "execute_result"
    }
   ],
   "source": [
    "a1 > a2"
   ]
  },
  {
   "cell_type": "code",
   "execution_count": 184,
   "id": "0a69996d-ed34-4901-87cd-a0650787cd24",
   "metadata": {},
   "outputs": [
    {
     "data": {
      "text/plain": [
       "array([[False, False, False],\n",
       "       [ True, False, False]])"
      ]
     },
     "execution_count": 184,
     "metadata": {},
     "output_type": "execute_result"
    }
   ],
   "source": [
    "bool_arr = a1 >= a2\n",
    "bool_arr"
   ]
  },
  {
   "cell_type": "code",
   "execution_count": 185,
   "id": "061a790a-f7e7-40f5-a30a-030132b0667f",
   "metadata": {},
   "outputs": [
    {
     "data": {
      "text/plain": [
       "(numpy.ndarray, dtype('bool'))"
      ]
     },
     "execution_count": 185,
     "metadata": {},
     "output_type": "execute_result"
    }
   ],
   "source": [
    "type(bool_arr), bool_arr.dtype"
   ]
  },
  {
   "cell_type": "code",
   "execution_count": 186,
   "id": "c7f56078-9e2a-4278-b17c-f76527545d27",
   "metadata": {},
   "outputs": [
    {
     "data": {
      "text/plain": [
       "array([ True,  True,  True])"
      ]
     },
     "execution_count": 186,
     "metadata": {},
     "output_type": "execute_result"
    }
   ],
   "source": [
    "a1 < 5"
   ]
  },
  {
   "cell_type": "code",
   "execution_count": 187,
   "id": "e18a0d9f-c16d-44a5-bb85-5e15256e71fd",
   "metadata": {},
   "outputs": [
    {
     "data": {
      "text/plain": [
       "array([ True,  True,  True])"
      ]
     },
     "execution_count": 187,
     "metadata": {},
     "output_type": "execute_result"
    }
   ],
   "source": [
    "a1 == a1"
   ]
  },
  {
   "cell_type": "code",
   "execution_count": 188,
   "id": "6bd7f6fb-42f6-496d-91f2-0523994ecfde",
   "metadata": {},
   "outputs": [
    {
     "data": {
      "text/plain": [
       "(array([1, 2, 3]),\n",
       " array([[1.5, 4.5, 7.5],\n",
       "        [1. , 3. , 6. ]]))"
      ]
     },
     "execution_count": 188,
     "metadata": {},
     "output_type": "execute_result"
    }
   ],
   "source": [
    "a1, a2"
   ]
  },
  {
   "cell_type": "code",
   "execution_count": 190,
   "id": "40f4eb28-0f43-4ddb-98a5-eea614b8f6b1",
   "metadata": {},
   "outputs": [
    {
     "data": {
      "text/plain": [
       "array([[False, False, False],\n",
       "       [ True, False, False]])"
      ]
     },
     "execution_count": 190,
     "metadata": {},
     "output_type": "execute_result"
    }
   ],
   "source": [
    "a1 == a2"
   ]
  },
  {
   "cell_type": "markdown",
   "id": "318a5fc7-ee86-4520-b706-d511711eddde",
   "metadata": {},
   "source": [
    "## Sorting Arrays"
   ]
  },
  {
   "cell_type": "code",
   "execution_count": 194,
   "id": "4e65c08a-fba4-4c18-9d04-23971adb2bd1",
   "metadata": {},
   "outputs": [
    {
     "data": {
      "text/plain": [
       "array([[9, 9, 2, 2, 3],\n",
       "       [9, 5, 0, 8, 3],\n",
       "       [7, 0, 0, 8, 3]])"
      ]
     },
     "execution_count": 194,
     "metadata": {},
     "output_type": "execute_result"
    }
   ],
   "source": [
    "random_array"
   ]
  },
  {
   "cell_type": "code",
   "execution_count": 195,
   "id": "b3adb483-aaeb-4f91-a5fa-0771d72b6c7e",
   "metadata": {},
   "outputs": [
    {
     "data": {
      "text/plain": [
       "array([[2, 2, 3, 9, 9],\n",
       "       [0, 3, 5, 8, 9],\n",
       "       [0, 0, 3, 7, 8]])"
      ]
     },
     "execution_count": 195,
     "metadata": {},
     "output_type": "execute_result"
    }
   ],
   "source": [
    "np.sort(random_array)"
   ]
  },
  {
   "cell_type": "code",
   "execution_count": 197,
   "id": "7eceba66-fba4-4493-920b-3be72e909c26",
   "metadata": {},
   "outputs": [
    {
     "data": {
      "text/plain": [
       "array([[9, 9, 2, 2, 3],\n",
       "       [9, 5, 0, 8, 3],\n",
       "       [7, 0, 0, 8, 3]])"
      ]
     },
     "execution_count": 197,
     "metadata": {},
     "output_type": "execute_result"
    }
   ],
   "source": [
    "random_array"
   ]
  },
  {
   "cell_type": "code",
   "execution_count": 198,
   "id": "fe611e3e-b299-4318-b93a-4456da007183",
   "metadata": {},
   "outputs": [
    {
     "data": {
      "text/plain": [
       "array([[2, 3, 4, 0, 1],\n",
       "       [2, 4, 1, 3, 0],\n",
       "       [1, 2, 4, 0, 3]], dtype=int64)"
      ]
     },
     "execution_count": 198,
     "metadata": {},
     "output_type": "execute_result"
    }
   ],
   "source": [
    "np.argsort(random_array)"
   ]
  },
  {
   "cell_type": "markdown",
   "id": "9c31f0cd-3502-4e30-b97a-e034ff9307db",
   "metadata": {},
   "source": [
    "Smallest element at 2 index, then next smallest element element at 3 >> 4 >> 0 >> 1"
   ]
  },
  {
   "cell_type": "code",
   "execution_count": 199,
   "id": "cc4d578f-fdcc-4a29-b4bf-d82358376dc8",
   "metadata": {},
   "outputs": [
    {
     "data": {
      "text/plain": [
       "3"
      ]
     },
     "execution_count": 199,
     "metadata": {},
     "output_type": "execute_result"
    }
   ],
   "source": [
    "np.argmin(a2)"
   ]
  },
  {
   "cell_type": "code",
   "execution_count": 200,
   "id": "3a817d55-0e73-4156-8843-ea21b122a465",
   "metadata": {},
   "outputs": [
    {
     "data": {
      "text/plain": [
       "2"
      ]
     },
     "execution_count": 200,
     "metadata": {},
     "output_type": "execute_result"
    }
   ],
   "source": [
    "np.argmax(a2)"
   ]
  },
  {
   "cell_type": "code",
   "execution_count": 201,
   "id": "d03ebae8-e8c9-4bcf-a6b2-e94827f50764",
   "metadata": {},
   "outputs": [
    {
     "data": {
      "text/plain": [
       "array([[9, 9, 2, 2, 3],\n",
       "       [9, 5, 0, 8, 3],\n",
       "       [7, 0, 0, 8, 3]])"
      ]
     },
     "execution_count": 201,
     "metadata": {},
     "output_type": "execute_result"
    }
   ],
   "source": [
    " random_array"
   ]
  },
  {
   "cell_type": "code",
   "execution_count": 202,
   "id": "e6547fd1-ebd3-4cc1-864e-c758384774e4",
   "metadata": {},
   "outputs": [
    {
     "data": {
      "text/plain": [
       "0"
      ]
     },
     "execution_count": 202,
     "metadata": {},
     "output_type": "execute_result"
    }
   ],
   "source": [
    "np.argmax(random_array)"
   ]
  },
  {
   "cell_type": "code",
   "execution_count": 203,
   "id": "b6a7db6a-bc84-4874-9b13-e40369e13742",
   "metadata": {},
   "outputs": [
    {
     "data": {
      "text/plain": [
       "array([0, 0, 0, 1, 0], dtype=int64)"
      ]
     },
     "execution_count": 203,
     "metadata": {},
     "output_type": "execute_result"
    }
   ],
   "source": [
    "np.argmax(random_array, axis=0)"
   ]
  },
  {
   "cell_type": "code",
   "execution_count": 204,
   "id": "92147151-6698-4eda-824c-31df96d92526",
   "metadata": {},
   "outputs": [
    {
     "data": {
      "text/plain": [
       "array([0, 0, 3], dtype=int64)"
      ]
     },
     "execution_count": 204,
     "metadata": {},
     "output_type": "execute_result"
    }
   ],
   "source": [
    "np.argmax(random_array, axis=1)"
   ]
  },
  {
   "cell_type": "code",
   "execution_count": null,
   "id": "c9c61885-3ee5-4c11-ab78-3478174bf16d",
   "metadata": {},
   "outputs": [],
   "source": []
  }
 ],
 "metadata": {
  "kernelspec": {
   "display_name": "Python 3 (ipykernel)",
   "language": "python",
   "name": "python3"
  },
  "language_info": {
   "codemirror_mode": {
    "name": "ipython",
    "version": 3
   },
   "file_extension": ".py",
   "mimetype": "text/x-python",
   "name": "python",
   "nbconvert_exporter": "python",
   "pygments_lexer": "ipython3",
   "version": "3.11.7"
  }
 },
 "nbformat": 4,
 "nbformat_minor": 5
}
